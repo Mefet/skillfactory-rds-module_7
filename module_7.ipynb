{
 "cells": [
  {
   "cell_type": "code",
   "execution_count": 96,
   "metadata": {
    "_cell_guid": "b1076dfc-b9ad-4769-8c92-a6c4dae69d19",
    "_uuid": "8f2839f25d086af736a60e9eeb907d3b93b6e0e5"
   },
   "outputs": [],
   "source": [
    "import numpy as np \n",
    "import pandas as pd\n",
    "from collections import Counter\n",
    "import json\n",
    "import re\n",
    "import seaborn as sns\n",
    "from datetime import datetime\n",
    "from pandas import Series\n",
    "import matplotlib.pyplot as plt\n",
    "\n",
    "from itertools import combinations\n",
    "from scipy.stats import ttest_ind\n",
    "\n",
    "from sklearn.preprocessing import LabelEncoder, OneHotEncoder, StandardScaler\n",
    "from sklearn.feature_selection import f_classif, mutual_info_classif\n",
    "\n",
    "import os\n",
    "for dirname, _, filenames in os.walk('/kaggle/input'):\n",
    "    for filename in filenames:\n",
    "        print(os.path.join(dirname, filename))\n",
    "from sklearn.metrics import auc, roc_auc_score, roc_curve\n",
    "import warnings \n",
    "warnings.simplefilter('ignore')\n",
    "\n",
    "import scipy.sparse as sparse\n",
    "from sklearn import preprocessing\n",
    "from lightfm import LightFM\n",
    "from lightfm.cross_validation import random_train_test_split\n",
    "from lightfm.evaluation import auc_score, precision_at_k, recall_at_k\n",
    "import sklearn\n",
    "from sklearn.model_selection import train_test_split\n",
    "\n",
    "import scipy.sparse as sparse\n",
    "\n",
    "import nmslib"
   ]
  },
  {
   "cell_type": "code",
   "execution_count": 99,
   "metadata": {},
   "outputs": [],
   "source": [
    "def roc_auc_curve(y_true, y_pred_prob):\n",
    "    fpr, tpr, _ = roc_curve(y_true, y_pred_prob)\n",
    "    plt.figure()\n",
    "    plt.plot([0, 1], label='Случайный классификатор', linestyle='--')\n",
    "    plt.plot(fpr, tpr, label = 'LightFM')\n",
    "    plt.title('ROC AUC = %0.3f' % roc_auc_score(y_true, y_pred_prob))\n",
    "    plt.ylabel('True Positive Rate')\n",
    "    plt.xlabel('False Positive Rate')\n",
    "    plt.legend(loc = 'lower right')\n",
    "    plt.show()\n",
    "    \n",
    "def IQR(column):\n",
    "    perc_25 = df[column].quantile(0.25, interpolation=\"midpoint\")\n",
    "    perc_75 = df[column].quantile(0.75, interpolation=\"midpoint\")\n",
    "    IQR = perc_75 - perc_25\n",
    "    min_out = perc_25 - 1.5 * IQR\n",
    "    max_out = perc_75 + 1.5 * IQR\n",
    "    print('Всего выбросов: {} '.format(\n",
    "        df[df[column] > max_out][column].count()+df[df[column] < min_out][column].count()))\n",
    "    print('Верхняя граница выбросов:',max_out)\n",
    "    \n",
    "def get_stat_dif(column):\n",
    "    cols = df.loc[:, column].value_counts().index[:10]\n",
    "    combinations_all = list(combinations(cols, 2))\n",
    "    for comb in combinations_all:\n",
    "        if ttest_ind(df.loc[df.loc[:, column] == comb[0], 'rating'], \n",
    "                        df.loc[df.loc[:, column] == comb[1], 'rating']).pvalue \\\n",
    "            <= 0.05/len(combinations_all): \n",
    "            print('Найдены статистически значимые различия для колонки', column)\n",
    "            break\n",
    "            \n",
    "def nearest_item_nms(itemid, index, n=10):\n",
    "    nn = index.knnQuery(item_embeddings[itemid], k=n)\n",
    "    return nn"
   ]
  },
  {
   "cell_type": "code",
   "execution_count": 3,
   "metadata": {},
   "outputs": [],
   "source": [
    "train = pd.read_csv('data/train.csv')\n",
    "test = pd.read_csv('data/test.csv')\n",
    "submission = pd.read_csv('data/sample_submission.csv')"
   ]
  },
  {
   "cell_type": "code",
   "execution_count": 4,
   "metadata": {},
   "outputs": [
    {
     "data": {
      "text/html": [
       "<div>\n",
       "<style scoped>\n",
       "    .dataframe tbody tr th:only-of-type {\n",
       "        vertical-align: middle;\n",
       "    }\n",
       "\n",
       "    .dataframe tbody tr th {\n",
       "        vertical-align: top;\n",
       "    }\n",
       "\n",
       "    .dataframe thead th {\n",
       "        text-align: right;\n",
       "    }\n",
       "</style>\n",
       "<table border=\"1\" class=\"dataframe\">\n",
       "  <thead>\n",
       "    <tr style=\"text-align: right;\">\n",
       "      <th></th>\n",
       "      <th>overall</th>\n",
       "      <th>verified</th>\n",
       "      <th>reviewTime</th>\n",
       "      <th>asin</th>\n",
       "      <th>reviewerName</th>\n",
       "      <th>reviewText</th>\n",
       "      <th>summary</th>\n",
       "      <th>unixReviewTime</th>\n",
       "      <th>vote</th>\n",
       "      <th>style</th>\n",
       "      <th>image</th>\n",
       "      <th>userid</th>\n",
       "      <th>itemid</th>\n",
       "      <th>rating</th>\n",
       "    </tr>\n",
       "  </thead>\n",
       "  <tbody>\n",
       "    <tr>\n",
       "      <th>0</th>\n",
       "      <td>5.0</td>\n",
       "      <td>True</td>\n",
       "      <td>10 4, 2016</td>\n",
       "      <td>B01CPNIEQG</td>\n",
       "      <td>Heather</td>\n",
       "      <td>These are my FAVORITE spices in my collection....</td>\n",
       "      <td>Must Add to your Spice kitchen!</td>\n",
       "      <td>1475539200</td>\n",
       "      <td>NaN</td>\n",
       "      <td>NaN</td>\n",
       "      <td>NaN</td>\n",
       "      <td>102179</td>\n",
       "      <td>37138</td>\n",
       "      <td>1.0</td>\n",
       "    </tr>\n",
       "    <tr>\n",
       "      <th>1</th>\n",
       "      <td>5.0</td>\n",
       "      <td>True</td>\n",
       "      <td>03 1, 2016</td>\n",
       "      <td>B006F63M8U</td>\n",
       "      <td>Linda Odom</td>\n",
       "      <td>Add A package to my Coffee and it makes a good...</td>\n",
       "      <td>Milk Chocolate Swiis MIss Hot Cocoa Mix</td>\n",
       "      <td>1456790400</td>\n",
       "      <td>NaN</td>\n",
       "      <td>{'Size:': ' 60-0.73 oz Envelopes'}</td>\n",
       "      <td>NaN</td>\n",
       "      <td>3625</td>\n",
       "      <td>17322</td>\n",
       "      <td>1.0</td>\n",
       "    </tr>\n",
       "  </tbody>\n",
       "</table>\n",
       "</div>"
      ],
      "text/plain": [
       "   overall  verified  reviewTime        asin reviewerName  \\\n",
       "0      5.0      True  10 4, 2016  B01CPNIEQG      Heather   \n",
       "1      5.0      True  03 1, 2016  B006F63M8U   Linda Odom   \n",
       "\n",
       "                                          reviewText  \\\n",
       "0  These are my FAVORITE spices in my collection....   \n",
       "1  Add A package to my Coffee and it makes a good...   \n",
       "\n",
       "                                   summary  unixReviewTime vote  \\\n",
       "0          Must Add to your Spice kitchen!      1475539200  NaN   \n",
       "1  Milk Chocolate Swiis MIss Hot Cocoa Mix      1456790400  NaN   \n",
       "\n",
       "                                style image  userid  itemid  rating  \n",
       "0                                 NaN   NaN  102179   37138     1.0  \n",
       "1  {'Size:': ' 60-0.73 oz Envelopes'}   NaN    3625   17322     1.0  "
      ]
     },
     "execution_count": 4,
     "metadata": {},
     "output_type": "execute_result"
    }
   ],
   "source": [
    "train.head(2)"
   ]
  },
  {
   "cell_type": "code",
   "execution_count": 5,
   "metadata": {},
   "outputs": [
    {
     "name": "stdout",
     "output_type": "stream",
     "text": [
      "<class 'pandas.core.frame.DataFrame'>\n",
      "RangeIndex: 857895 entries, 0 to 857894\n",
      "Data columns (total 14 columns):\n",
      " #   Column          Non-Null Count   Dtype  \n",
      "---  ------          --------------   -----  \n",
      " 0   overall         857895 non-null  float64\n",
      " 1   verified        857895 non-null  bool   \n",
      " 2   reviewTime      857895 non-null  object \n",
      " 3   asin            857895 non-null  object \n",
      " 4   reviewerName    857719 non-null  object \n",
      " 5   reviewText      857616 non-null  object \n",
      " 6   summary         857725 non-null  object \n",
      " 7   unixReviewTime  857895 non-null  int64  \n",
      " 8   vote            118740 non-null  object \n",
      " 9   style           444406 non-null  object \n",
      " 10  image           7142 non-null    object \n",
      " 11  userid          857895 non-null  int64  \n",
      " 12  itemid          857895 non-null  int64  \n",
      " 13  rating          857895 non-null  float64\n",
      "dtypes: bool(1), float64(2), int64(3), object(8)\n",
      "memory usage: 85.9+ MB\n"
     ]
    }
   ],
   "source": [
    "train.info()"
   ]
  },
  {
   "cell_type": "code",
   "execution_count": 6,
   "metadata": {},
   "outputs": [
    {
     "data": {
      "text/html": [
       "<div>\n",
       "<style scoped>\n",
       "    .dataframe tbody tr th:only-of-type {\n",
       "        vertical-align: middle;\n",
       "    }\n",
       "\n",
       "    .dataframe tbody tr th {\n",
       "        vertical-align: top;\n",
       "    }\n",
       "\n",
       "    .dataframe thead th {\n",
       "        text-align: right;\n",
       "    }\n",
       "</style>\n",
       "<table border=\"1\" class=\"dataframe\">\n",
       "  <thead>\n",
       "    <tr style=\"text-align: right;\">\n",
       "      <th></th>\n",
       "      <th>verified</th>\n",
       "      <th>reviewTime</th>\n",
       "      <th>asin</th>\n",
       "      <th>reviewerName</th>\n",
       "      <th>unixReviewTime</th>\n",
       "      <th>vote</th>\n",
       "      <th>style</th>\n",
       "      <th>image</th>\n",
       "      <th>userid</th>\n",
       "      <th>itemid</th>\n",
       "      <th>Id</th>\n",
       "    </tr>\n",
       "  </thead>\n",
       "  <tbody>\n",
       "    <tr>\n",
       "      <th>0</th>\n",
       "      <td>True</td>\n",
       "      <td>10 1, 2016</td>\n",
       "      <td>B001E5E3X0</td>\n",
       "      <td>Rudys Mom</td>\n",
       "      <td>1475280000</td>\n",
       "      <td>NaN</td>\n",
       "      <td>NaN</td>\n",
       "      <td>NaN</td>\n",
       "      <td>68877</td>\n",
       "      <td>7506</td>\n",
       "      <td>0</td>\n",
       "    </tr>\n",
       "    <tr>\n",
       "      <th>1</th>\n",
       "      <td>True</td>\n",
       "      <td>06 29, 2014</td>\n",
       "      <td>B005BYXX5E</td>\n",
       "      <td>pharg</td>\n",
       "      <td>1404000000</td>\n",
       "      <td>2</td>\n",
       "      <td>NaN</td>\n",
       "      <td>NaN</td>\n",
       "      <td>50442</td>\n",
       "      <td>15530</td>\n",
       "      <td>1</td>\n",
       "    </tr>\n",
       "  </tbody>\n",
       "</table>\n",
       "</div>"
      ],
      "text/plain": [
       "   verified   reviewTime        asin reviewerName  unixReviewTime vote style  \\\n",
       "0      True   10 1, 2016  B001E5E3X0    Rudys Mom      1475280000  NaN   NaN   \n",
       "1      True  06 29, 2014  B005BYXX5E        pharg      1404000000    2   NaN   \n",
       "\n",
       "  image  userid  itemid  Id  \n",
       "0   NaN   68877    7506   0  \n",
       "1   NaN   50442   15530   1  "
      ]
     },
     "execution_count": 6,
     "metadata": {},
     "output_type": "execute_result"
    }
   ],
   "source": [
    "test.head(2)"
   ]
  },
  {
   "cell_type": "code",
   "execution_count": 7,
   "metadata": {},
   "outputs": [
    {
     "name": "stdout",
     "output_type": "stream",
     "text": [
      "<class 'pandas.core.frame.DataFrame'>\n",
      "RangeIndex: 285965 entries, 0 to 285964\n",
      "Data columns (total 11 columns):\n",
      " #   Column          Non-Null Count   Dtype \n",
      "---  ------          --------------   ----- \n",
      " 0   verified        285965 non-null  bool  \n",
      " 1   reviewTime      285965 non-null  object\n",
      " 2   asin            285965 non-null  object\n",
      " 3   reviewerName    285918 non-null  object\n",
      " 4   unixReviewTime  285965 non-null  int64 \n",
      " 5   vote            39462 non-null   object\n",
      " 6   style           147680 non-null  object\n",
      " 7   image           2368 non-null    object\n",
      " 8   userid          285965 non-null  int64 \n",
      " 9   itemid          285965 non-null  int64 \n",
      " 10  Id              285965 non-null  int64 \n",
      "dtypes: bool(1), int64(4), object(6)\n",
      "memory usage: 22.1+ MB\n"
     ]
    }
   ],
   "source": [
    "test.info()"
   ]
  },
  {
   "cell_type": "code",
   "execution_count": 8,
   "metadata": {},
   "outputs": [
    {
     "data": {
      "text/html": [
       "<div>\n",
       "<style scoped>\n",
       "    .dataframe tbody tr th:only-of-type {\n",
       "        vertical-align: middle;\n",
       "    }\n",
       "\n",
       "    .dataframe tbody tr th {\n",
       "        vertical-align: top;\n",
       "    }\n",
       "\n",
       "    .dataframe thead th {\n",
       "        text-align: right;\n",
       "    }\n",
       "</style>\n",
       "<table border=\"1\" class=\"dataframe\">\n",
       "  <thead>\n",
       "    <tr style=\"text-align: right;\">\n",
       "      <th></th>\n",
       "      <th>Id</th>\n",
       "      <th>rating</th>\n",
       "    </tr>\n",
       "  </thead>\n",
       "  <tbody>\n",
       "    <tr>\n",
       "      <th>0</th>\n",
       "      <td>0</td>\n",
       "      <td>0.282813</td>\n",
       "    </tr>\n",
       "    <tr>\n",
       "      <th>1</th>\n",
       "      <td>1</td>\n",
       "      <td>0.629758</td>\n",
       "    </tr>\n",
       "  </tbody>\n",
       "</table>\n",
       "</div>"
      ],
      "text/plain": [
       "   Id    rating\n",
       "0   0  0.282813\n",
       "1   1  0.629758"
      ]
     },
     "execution_count": 8,
     "metadata": {},
     "output_type": "execute_result"
    }
   ],
   "source": [
    "submission.head(2)"
   ]
  },
  {
   "cell_type": "code",
   "execution_count": 9,
   "metadata": {},
   "outputs": [],
   "source": [
    "with open('data/meta_Grocery_and_Gourmet_Food.json') as f:\n",
    "    meta_list = []\n",
    "    for line in f.readlines():\n",
    "        meta_list.append(json.loads(line))\n",
    "        \n",
    "meta = pd.DataFrame(meta_list)"
   ]
  },
  {
   "cell_type": "code",
   "execution_count": 10,
   "metadata": {},
   "outputs": [
    {
     "data": {
      "text/html": [
       "<div>\n",
       "<style scoped>\n",
       "    .dataframe tbody tr th:only-of-type {\n",
       "        vertical-align: middle;\n",
       "    }\n",
       "\n",
       "    .dataframe tbody tr th {\n",
       "        vertical-align: top;\n",
       "    }\n",
       "\n",
       "    .dataframe thead th {\n",
       "        text-align: right;\n",
       "    }\n",
       "</style>\n",
       "<table border=\"1\" class=\"dataframe\">\n",
       "  <thead>\n",
       "    <tr style=\"text-align: right;\">\n",
       "      <th></th>\n",
       "      <th>category</th>\n",
       "      <th>description</th>\n",
       "      <th>title</th>\n",
       "      <th>brand</th>\n",
       "      <th>rank</th>\n",
       "      <th>also_view</th>\n",
       "      <th>main_cat</th>\n",
       "      <th>price</th>\n",
       "      <th>asin</th>\n",
       "      <th>also_buy</th>\n",
       "      <th>image</th>\n",
       "      <th>date</th>\n",
       "      <th>feature</th>\n",
       "      <th>details</th>\n",
       "      <th>similar_item</th>\n",
       "      <th>tech1</th>\n",
       "      <th>fit</th>\n",
       "    </tr>\n",
       "  </thead>\n",
       "  <tbody>\n",
       "    <tr>\n",
       "      <th>0</th>\n",
       "      <td>[Grocery &amp; Gourmet Food, Dairy, Cheese &amp; Eggs,...</td>\n",
       "      <td>[BEEMSTER GOUDA CHEESE AGED 18/24 MONTHS, Stat...</td>\n",
       "      <td>Beemster Gouda - Aged 18/24 Months - App. 1.5 Lbs</td>\n",
       "      <td>Ariola Imports</td>\n",
       "      <td>165,181inGroceryGourmetFood(</td>\n",
       "      <td>[B0000D9MYM, B0000D9MYL, B00ADHIGBA, B00H9OX59...</td>\n",
       "      <td>Grocery</td>\n",
       "      <td>$41.91</td>\n",
       "      <td>0681727810</td>\n",
       "      <td>NaN</td>\n",
       "      <td>NaN</td>\n",
       "      <td>NaN</td>\n",
       "      <td>NaN</td>\n",
       "      <td>NaN</td>\n",
       "      <td>NaN</td>\n",
       "      <td>NaN</td>\n",
       "      <td>NaN</td>\n",
       "    </tr>\n",
       "    <tr>\n",
       "      <th>1</th>\n",
       "      <td>[Grocery &amp; Gourmet Food, Cooking &amp; Baking, Sug...</td>\n",
       "      <td>[Shipped from UK, please allow 10 to 21 busine...</td>\n",
       "      <td>Trim Healthy Mama Xylitol</td>\n",
       "      <td>NaN</td>\n",
       "      <td>315,867inGroceryGourmetFood(</td>\n",
       "      <td>NaN</td>\n",
       "      <td>Grocery</td>\n",
       "      <td>NaN</td>\n",
       "      <td>0853347867</td>\n",
       "      <td>[B01898YHXK, B01BCM6LAC, B00Q4OL47O, B00Q4OL5Q...</td>\n",
       "      <td>[https://images-na.ssl-images-amazon.com/image...</td>\n",
       "      <td>NaN</td>\n",
       "      <td>NaN</td>\n",
       "      <td>NaN</td>\n",
       "      <td>NaN</td>\n",
       "      <td>NaN</td>\n",
       "      <td>NaN</td>\n",
       "    </tr>\n",
       "  </tbody>\n",
       "</table>\n",
       "</div>"
      ],
      "text/plain": [
       "                                            category  \\\n",
       "0  [Grocery & Gourmet Food, Dairy, Cheese & Eggs,...   \n",
       "1  [Grocery & Gourmet Food, Cooking & Baking, Sug...   \n",
       "\n",
       "                                         description  \\\n",
       "0  [BEEMSTER GOUDA CHEESE AGED 18/24 MONTHS, Stat...   \n",
       "1  [Shipped from UK, please allow 10 to 21 busine...   \n",
       "\n",
       "                                               title           brand  \\\n",
       "0  Beemster Gouda - Aged 18/24 Months - App. 1.5 Lbs  Ariola Imports   \n",
       "1                          Trim Healthy Mama Xylitol             NaN   \n",
       "\n",
       "                           rank  \\\n",
       "0  165,181inGroceryGourmetFood(   \n",
       "1  315,867inGroceryGourmetFood(   \n",
       "\n",
       "                                           also_view main_cat   price  \\\n",
       "0  [B0000D9MYM, B0000D9MYL, B00ADHIGBA, B00H9OX59...  Grocery  $41.91   \n",
       "1                                                NaN  Grocery     NaN   \n",
       "\n",
       "         asin                                           also_buy  \\\n",
       "0  0681727810                                                NaN   \n",
       "1  0853347867  [B01898YHXK, B01BCM6LAC, B00Q4OL47O, B00Q4OL5Q...   \n",
       "\n",
       "                                               image date feature details  \\\n",
       "0                                                NaN  NaN     NaN     NaN   \n",
       "1  [https://images-na.ssl-images-amazon.com/image...  NaN     NaN     NaN   \n",
       "\n",
       "  similar_item tech1  fit  \n",
       "0          NaN   NaN  NaN  \n",
       "1          NaN   NaN  NaN  "
      ]
     },
     "execution_count": 10,
     "metadata": {},
     "output_type": "execute_result"
    }
   ],
   "source": [
    "meta.head(2)"
   ]
  },
  {
   "cell_type": "code",
   "execution_count": 11,
   "metadata": {},
   "outputs": [
    {
     "name": "stdout",
     "output_type": "stream",
     "text": [
      "<class 'pandas.core.frame.DataFrame'>\n",
      "RangeIndex: 287209 entries, 0 to 287208\n",
      "Data columns (total 17 columns):\n",
      " #   Column        Non-Null Count   Dtype \n",
      "---  ------        --------------   ----- \n",
      " 0   category      287209 non-null  object\n",
      " 1   description   251802 non-null  object\n",
      " 2   title         287205 non-null  object\n",
      " 3   brand         275787 non-null  object\n",
      " 4   rank          275494 non-null  object\n",
      " 5   also_view     121012 non-null  object\n",
      " 6   main_cat      285716 non-null  object\n",
      " 7   price         132136 non-null  object\n",
      " 8   asin          287209 non-null  object\n",
      " 9   also_buy      83332 non-null   object\n",
      " 10  image         150214 non-null  object\n",
      " 11  date          9663 non-null    object\n",
      " 12  feature       16374 non-null   object\n",
      " 13  details       273323 non-null  object\n",
      " 14  similar_item  256 non-null     object\n",
      " 15  tech1         744 non-null     object\n",
      " 16  fit           4 non-null       object\n",
      "dtypes: object(17)\n",
      "memory usage: 37.3+ MB\n"
     ]
    }
   ],
   "source": [
    "meta.info()"
   ]
  },
  {
   "cell_type": "code",
   "execution_count": 12,
   "metadata": {},
   "outputs": [],
   "source": [
    "# удалим идентичные записи\n",
    "train.drop_duplicates(inplace = True)\n",
    "train_new = pd.merge(train, meta, on='asin')"
   ]
  },
  {
   "cell_type": "code",
   "execution_count": 13,
   "metadata": {},
   "outputs": [
    {
     "data": {
      "text/html": [
       "<div>\n",
       "<style scoped>\n",
       "    .dataframe tbody tr th:only-of-type {\n",
       "        vertical-align: middle;\n",
       "    }\n",
       "\n",
       "    .dataframe tbody tr th {\n",
       "        vertical-align: top;\n",
       "    }\n",
       "\n",
       "    .dataframe thead th {\n",
       "        text-align: right;\n",
       "    }\n",
       "</style>\n",
       "<table border=\"1\" class=\"dataframe\">\n",
       "  <thead>\n",
       "    <tr style=\"text-align: right;\">\n",
       "      <th></th>\n",
       "      <th>overall</th>\n",
       "      <th>verified</th>\n",
       "      <th>reviewTime</th>\n",
       "      <th>asin</th>\n",
       "      <th>reviewerName</th>\n",
       "      <th>reviewText</th>\n",
       "      <th>summary</th>\n",
       "      <th>unixReviewTime</th>\n",
       "      <th>vote</th>\n",
       "      <th>style</th>\n",
       "      <th>...</th>\n",
       "      <th>main_cat</th>\n",
       "      <th>price</th>\n",
       "      <th>also_buy</th>\n",
       "      <th>image_y</th>\n",
       "      <th>date</th>\n",
       "      <th>feature</th>\n",
       "      <th>details</th>\n",
       "      <th>similar_item</th>\n",
       "      <th>tech1</th>\n",
       "      <th>fit</th>\n",
       "    </tr>\n",
       "  </thead>\n",
       "  <tbody>\n",
       "    <tr>\n",
       "      <th>0</th>\n",
       "      <td>5.0</td>\n",
       "      <td>True</td>\n",
       "      <td>10 4, 2016</td>\n",
       "      <td>B01CPNIEQG</td>\n",
       "      <td>Heather</td>\n",
       "      <td>These are my FAVORITE spices in my collection....</td>\n",
       "      <td>Must Add to your Spice kitchen!</td>\n",
       "      <td>1475539200</td>\n",
       "      <td>NaN</td>\n",
       "      <td>NaN</td>\n",
       "      <td>...</td>\n",
       "      <td>Grocery</td>\n",
       "      <td>$9.95</td>\n",
       "      <td>[B01DGZ2B48, B01EZ489AO, B01DH795LM, B01EYW2LC...</td>\n",
       "      <td>[https://images-na.ssl-images-amazon.com/image...</td>\n",
       "      <td>NaN</td>\n",
       "      <td>NaN</td>\n",
       "      <td>\\n      &lt;div class=\"content\"&gt;\\n\\n\\n\\n\\n\\n\\n&lt;ul...</td>\n",
       "      <td>NaN</td>\n",
       "      <td>NaN</td>\n",
       "      <td>NaN</td>\n",
       "    </tr>\n",
       "    <tr>\n",
       "      <th>1</th>\n",
       "      <td>5.0</td>\n",
       "      <td>False</td>\n",
       "      <td>03 31, 2017</td>\n",
       "      <td>B01CPNIEQG</td>\n",
       "      <td>Tina McClain</td>\n",
       "      <td>Love this seasoning on chicken! The flavor is ...</td>\n",
       "      <td>Love all their seasoning!!</td>\n",
       "      <td>1490918400</td>\n",
       "      <td>NaN</td>\n",
       "      <td>NaN</td>\n",
       "      <td>...</td>\n",
       "      <td>Grocery</td>\n",
       "      <td>$9.95</td>\n",
       "      <td>[B01DGZ2B48, B01EZ489AO, B01DH795LM, B01EYW2LC...</td>\n",
       "      <td>[https://images-na.ssl-images-amazon.com/image...</td>\n",
       "      <td>NaN</td>\n",
       "      <td>NaN</td>\n",
       "      <td>\\n      &lt;div class=\"content\"&gt;\\n\\n\\n\\n\\n\\n\\n&lt;ul...</td>\n",
       "      <td>NaN</td>\n",
       "      <td>NaN</td>\n",
       "      <td>NaN</td>\n",
       "    </tr>\n",
       "  </tbody>\n",
       "</table>\n",
       "<p>2 rows × 30 columns</p>\n",
       "</div>"
      ],
      "text/plain": [
       "   overall  verified   reviewTime        asin  reviewerName  \\\n",
       "0      5.0      True   10 4, 2016  B01CPNIEQG       Heather   \n",
       "1      5.0     False  03 31, 2017  B01CPNIEQG  Tina McClain   \n",
       "\n",
       "                                          reviewText  \\\n",
       "0  These are my FAVORITE spices in my collection....   \n",
       "1  Love this seasoning on chicken! The flavor is ...   \n",
       "\n",
       "                           summary  unixReviewTime vote style  ... main_cat  \\\n",
       "0  Must Add to your Spice kitchen!      1475539200  NaN   NaN  ...  Grocery   \n",
       "1       Love all their seasoning!!      1490918400  NaN   NaN  ...  Grocery   \n",
       "\n",
       "   price                                           also_buy  \\\n",
       "0  $9.95  [B01DGZ2B48, B01EZ489AO, B01DH795LM, B01EYW2LC...   \n",
       "1  $9.95  [B01DGZ2B48, B01EZ489AO, B01DH795LM, B01EYW2LC...   \n",
       "\n",
       "                                             image_y date feature  \\\n",
       "0  [https://images-na.ssl-images-amazon.com/image...  NaN     NaN   \n",
       "1  [https://images-na.ssl-images-amazon.com/image...  NaN     NaN   \n",
       "\n",
       "                                             details similar_item tech1  fit  \n",
       "0  \\n      <div class=\"content\">\\n\\n\\n\\n\\n\\n\\n<ul...          NaN   NaN  NaN  \n",
       "1  \\n      <div class=\"content\">\\n\\n\\n\\n\\n\\n\\n<ul...          NaN   NaN  NaN  \n",
       "\n",
       "[2 rows x 30 columns]"
      ]
     },
     "execution_count": 13,
     "metadata": {},
     "output_type": "execute_result"
    }
   ],
   "source": [
    "train_new.head(2)"
   ]
  },
  {
   "cell_type": "code",
   "execution_count": 14,
   "metadata": {},
   "outputs": [
    {
     "name": "stdout",
     "output_type": "stream",
     "text": [
      "<class 'pandas.core.frame.DataFrame'>\n",
      "Int64Index: 847593 entries, 0 to 847592\n",
      "Data columns (total 30 columns):\n",
      " #   Column          Non-Null Count   Dtype  \n",
      "---  ------          --------------   -----  \n",
      " 0   overall         847593 non-null  float64\n",
      " 1   verified        847593 non-null  bool   \n",
      " 2   reviewTime      847593 non-null  object \n",
      " 3   asin            847593 non-null  object \n",
      " 4   reviewerName    847425 non-null  object \n",
      " 5   reviewText      847315 non-null  object \n",
      " 6   summary         847426 non-null  object \n",
      " 7   unixReviewTime  847593 non-null  int64  \n",
      " 8   vote            118861 non-null  object \n",
      " 9   style           440351 non-null  object \n",
      " 10  image_x         7138 non-null    object \n",
      " 11  userid          847593 non-null  int64  \n",
      " 12  itemid          847593 non-null  int64  \n",
      " 13  rating          847593 non-null  float64\n",
      " 14  category        847593 non-null  object \n",
      " 15  description     776098 non-null  object \n",
      " 16  title           847593 non-null  object \n",
      " 17  brand           841489 non-null  object \n",
      " 18  rank            812995 non-null  object \n",
      " 19  also_view       463371 non-null  object \n",
      " 20  main_cat        846638 non-null  object \n",
      " 21  price           588972 non-null  object \n",
      " 22  also_buy        726858 non-null  object \n",
      " 23  image_y         755354 non-null  object \n",
      " 24  date            12087 non-null   object \n",
      " 25  feature         142734 non-null  object \n",
      " 26  details         832985 non-null  object \n",
      " 27  similar_item    1138 non-null    object \n",
      " 28  tech1           4372 non-null    object \n",
      " 29  fit             0 non-null       object \n",
      "dtypes: bool(1), float64(2), int64(3), object(24)\n",
      "memory usage: 194.8+ MB\n"
     ]
    }
   ],
   "source": [
    "train_new.info()"
   ]
  },
  {
   "cell_type": "code",
   "execution_count": 15,
   "metadata": {},
   "outputs": [
    {
     "data": {
      "text/plain": [
       "overall                0\n",
       "verified               0\n",
       "reviewTime             0\n",
       "asin                   0\n",
       "reviewerName         168\n",
       "reviewText           278\n",
       "summary              167\n",
       "unixReviewTime         0\n",
       "vote              728732\n",
       "style             407242\n",
       "image_x           840455\n",
       "userid                 0\n",
       "itemid                 0\n",
       "rating                 0\n",
       "category               0\n",
       "description        71495\n",
       "title                  0\n",
       "brand               6104\n",
       "rank               34598\n",
       "also_view         384222\n",
       "main_cat             955\n",
       "price             258621\n",
       "also_buy          120735\n",
       "image_y            92239\n",
       "date              835506\n",
       "feature           704859\n",
       "details            14608\n",
       "similar_item      846455\n",
       "tech1             843221\n",
       "fit               847593\n",
       "dtype: int64"
      ]
     },
     "execution_count": 15,
     "metadata": {},
     "output_type": "execute_result"
    }
   ],
   "source": [
    "train_new.isnull().sum()"
   ]
  },
  {
   "cell_type": "code",
   "execution_count": 16,
   "metadata": {},
   "outputs": [
    {
     "data": {
      "image/png": "[encoded data removed]",
      "text/plain": [
       "<Figure size 1440x864 with 1 Axes>"
      ]
     },
     "metadata": {
      "needs_background": "light"
     },
     "output_type": "display_data"
    }
   ],
   "source": [
    "fig, ax = plt.subplots(figsize=(20,12))\n",
    "sns_heatmap = sns.heatmap(train_new.isnull(), yticklabels=False, cbar=False, cmap='viridis')"
   ]
  },
  {
   "cell_type": "code",
   "execution_count": 17,
   "metadata": {},
   "outputs": [
    {
     "data": {
      "text/plain": [
       "<matplotlib.axes._subplots.AxesSubplot at 0x29204a3fb20>"
      ]
     },
     "execution_count": 17,
     "metadata": {},
     "output_type": "execute_result"
    },
    {
     "data": {
      "image/png": "[encoded data removed]",
      "text/plain": [
       "<Figure size 864x864 with 2 Axes>"
      ]
     },
     "metadata": {},
     "output_type": "display_data"
    }
   ],
   "source": [
    "sns.set(font_scale=1)\n",
    "plt.subplots(figsize=(12, 12))\n",
    "sns.heatmap(train_new.corr(), square=True,\n",
    "              annot=True, fmt=\".1f\", linewidths=0.1, cmap=\"RdBu\")"
   ]
  },
  {
   "cell_type": "code",
   "execution_count": 18,
   "metadata": {},
   "outputs": [
    {
     "data": {
      "text/plain": [
       "<matplotlib.axes._subplots.AxesSubplot at 0x293be818eb0>"
      ]
     },
     "execution_count": 18,
     "metadata": {},
     "output_type": "execute_result"
    },
    {
     "data": {
      "image/png": "[encoded data removed]",
      "text/plain": [
       "<Figure size 432x288 with 1 Axes>"
      ]
     },
     "metadata": {},
     "output_type": "display_data"
    }
   ],
   "source": [
    "sns.countplot(x=\"overall\", data=train_new)"
   ]
  },
  {
   "cell_type": "code",
   "execution_count": 19,
   "metadata": {},
   "outputs": [],
   "source": [
    "df = train_new.copy()"
   ]
  },
  {
   "cell_type": "code",
   "execution_count": 20,
   "metadata": {},
   "outputs": [],
   "source": [
    "num_cols = []\n",
    "bin_cols = []\n",
    "cat_cols = []"
   ]
  },
  {
   "cell_type": "code",
   "execution_count": 21,
   "metadata": {},
   "outputs": [
    {
     "data": {
      "text/plain": [
       "0         [Grocery & Gourmet Food, Herbs, Spices & Seaso...\n",
       "1         [Grocery & Gourmet Food, Herbs, Spices & Seaso...\n",
       "2         [Grocery & Gourmet Food, Herbs, Spices & Seaso...\n",
       "3         [Grocery & Gourmet Food, Herbs, Spices & Seaso...\n",
       "4         [Grocery & Gourmet Food, Herbs, Spices & Seaso...\n",
       "                                ...                        \n",
       "847588    [Grocery & Gourmet Food, Candy & Chocolate, Ca...\n",
       "847589    [Grocery & Gourmet Food, Jams, Jellies & Sweet...\n",
       "847590    [Grocery & Gourmet Food, Beverages, Coffee, Te...\n",
       "847591    [Grocery & Gourmet Food, Beverages, Coffee, Te...\n",
       "847592    [Grocery & Gourmet Food, Canned, Jarred & Pack...\n",
       "Name: category, Length: 847593, dtype: object"
      ]
     },
     "execution_count": 21,
     "metadata": {},
     "output_type": "execute_result"
    }
   ],
   "source": [
    "train_new['category']"
   ]
  },
  {
   "cell_type": "code",
   "execution_count": 22,
   "metadata": {},
   "outputs": [
    {
     "data": {
      "text/plain": [
       "KIND                             22506\n",
       "Bob's Red Mill                   13061\n",
       "Twinings                         11182\n",
       "Planters                         10384\n",
       "Frontier                          6926\n",
       "                                 ...  \n",
       "EASTSHORE                            1\n",
       "Caffe Vita                           1\n",
       "Factory Card and Party Outlet        1\n",
       "Drumstick                            1\n",
       "Drink Chia                           1\n",
       "Name: brand, Length: 8866, dtype: int64"
      ]
     },
     "execution_count": 22,
     "metadata": {},
     "output_type": "execute_result"
    }
   ],
   "source": [
    "train_new['brand'].value_counts()"
   ]
  },
  {
   "cell_type": "code",
   "execution_count": 23,
   "metadata": {},
   "outputs": [
    {
     "data": {
      "text/plain": [
       "0         [B00AJRKRJS, B01NALHAY9, B01DGZ2B48, B01EZ489A...\n",
       "1         [B00AJRKRJS, B01NALHAY9, B01DGZ2B48, B01EZ489A...\n",
       "2         [B00AJRKRJS, B01NALHAY9, B01DGZ2B48, B01EZ489A...\n",
       "3         [B00AJRKRJS, B01NALHAY9, B01DGZ2B48, B01EZ489A...\n",
       "4         [B00AJRKRJS, B01NALHAY9, B01DGZ2B48, B01EZ489A...\n",
       "                                ...                        \n",
       "847588    [B004RASYSE, B0007KLGC4, B004R34A48, B004ROS57...\n",
       "847589    [B073SHX9X9, B073SHFN7C, B06WWRK7VT, B079KKM9B...\n",
       "847590                                                  NaN\n",
       "847591                                                  NaN\n",
       "847592                                                  NaN\n",
       "Name: also_view, Length: 847593, dtype: object"
      ]
     },
     "execution_count": 23,
     "metadata": {},
     "output_type": "execute_result"
    }
   ],
   "source": [
    "train_new['also_view']"
   ]
  },
  {
   "cell_type": "code",
   "execution_count": 24,
   "metadata": {},
   "outputs": [
    {
     "data": {
      "text/plain": [
       "Grocery                      802613\n",
       "Health & Personal Care        31705\n",
       "Amazon Home                    7383\n",
       "All Beauty                     1522\n",
       "Sports & Outdoors              1322\n",
       "Industrial & Scientific         902\n",
       "Office Products                 631\n",
       "Toys & Games                    304\n",
       "Pet Supplies                    125\n",
       "Tools & Home Improvement         53\n",
       "Baby                             34\n",
       "Arts, Crafts & Sewing            19\n",
       "Home Audio & Theater              9\n",
       "Camera & Photo                    8\n",
       "Software                          3\n",
       "Musical Instruments               3\n",
       "Cell Phones & Accessories         2\n",
       "Name: main_cat, dtype: int64"
      ]
     },
     "execution_count": 24,
     "metadata": {},
     "output_type": "execute_result"
    }
   ],
   "source": [
    "train_new['main_cat'].value_counts()"
   ]
  },
  {
   "cell_type": "raw",
   "metadata": {},
   "source": [
    "Удаляем мало полезные и с большим количством пропусков"
   ]
  },
  {
   "cell_type": "code",
   "execution_count": 25,
   "metadata": {},
   "outputs": [],
   "source": [
    "df = df.drop(['reviewTime', 'asin', 'reviewerName', 'reviewText',\n",
    "              'summary', 'unixReviewTime', 'style', 'image_x', 'category', \n",
    "              'description', 'title', 'brand', 'rank', 'date', \n",
    "              'feature', 'details', 'similar_item', 'tech1', 'fit'], axis=1)"
   ]
  },
  {
   "cell_type": "code",
   "execution_count": 26,
   "metadata": {},
   "outputs": [
    {
     "data": {
      "image/png": "[encoded data removed]",
      "text/plain": [
       "<Figure size 1440x864 with 1 Axes>"
      ]
     },
     "metadata": {},
     "output_type": "display_data"
    }
   ],
   "source": [
    "fig, ax = plt.subplots(figsize=(20,12))\n",
    "sns_heatmap = sns.heatmap(df.isnull(), yticklabels=False, cbar=False, cmap='viridis')"
   ]
  },
  {
   "cell_type": "code",
   "execution_count": 27,
   "metadata": {},
   "outputs": [],
   "source": [
    "df['overall']=df['overall'].astype('int32')\n",
    "cat_cols.append('overall')"
   ]
  },
  {
   "cell_type": "code",
   "execution_count": 28,
   "metadata": {},
   "outputs": [
    {
     "data": {
      "text/plain": [
       "<matplotlib.axes._subplots.AxesSubplot at 0x293be8686d0>"
      ]
     },
     "execution_count": 28,
     "metadata": {},
     "output_type": "execute_result"
    },
    {
     "data": {
      "image/png": "[encoded data removed]",
      "text/plain": [
       "<Figure size 432x288 with 1 Axes>"
      ]
     },
     "metadata": {},
     "output_type": "display_data"
    }
   ],
   "source": [
    "sns.countplot(x = 'verified', data = df)"
   ]
  },
  {
   "cell_type": "code",
   "execution_count": 29,
   "metadata": {},
   "outputs": [],
   "source": [
    "df['verified'] = df['verified'].map(lambda x: 1 if x == True else 0).astype('int')\n",
    "bin_cols.append('verified')"
   ]
  },
  {
   "cell_type": "code",
   "execution_count": 30,
   "metadata": {},
   "outputs": [
    {
     "data": {
      "text/plain": [
       "2.0      30774\n",
       "3.0      15336\n",
       "2        13786\n",
       "4.0       8893\n",
       "3         6969\n",
       "         ...  \n",
       "122.0        1\n",
       "414.0        1\n",
       "120.0        1\n",
       "425.0        1\n",
       "128          1\n",
       "Name: vote, Length: 477, dtype: int64"
      ]
     },
     "execution_count": 30,
     "metadata": {},
     "output_type": "execute_result"
    }
   ],
   "source": [
    "df.vote.value_counts()"
   ]
  },
  {
   "cell_type": "code",
   "execution_count": 31,
   "metadata": {},
   "outputs": [],
   "source": [
    "df['vote'] = df['vote'].astype('str')\n",
    "df['vote'] = df['vote'].apply(lambda x: x.replace(',', ''))\n",
    "df['vote'] = df['vote'].apply(lambda x: x.replace('nan', '0'))\n",
    "df.vote = df.vote.fillna(0)\n",
    "df['vote'] = df['vote'].astype('float')\n",
    "df['vote'] = df['vote'].astype('int32')"
   ]
  },
  {
   "cell_type": "code",
   "execution_count": 32,
   "metadata": {},
   "outputs": [
    {
     "data": {
      "text/plain": [
       "0      728732\n",
       "2       44560\n",
       "3       22305\n",
       "4       12872\n",
       "5        8275\n",
       "        ...  \n",
       "594         1\n",
       "218         1\n",
       "214         1\n",
       "211         1\n",
       "507         1\n",
       "Name: vote, Length: 312, dtype: int64"
      ]
     },
     "execution_count": 32,
     "metadata": {},
     "output_type": "execute_result"
    }
   ],
   "source": [
    "df.vote.value_counts()"
   ]
  },
  {
   "cell_type": "code",
   "execution_count": 33,
   "metadata": {},
   "outputs": [],
   "source": [
    "df[\"vote\"] = df[\"vote\"].apply(lambda x: 'low' if x == 0 else\n",
    "    'high' if x > 50 else 'middle')"
   ]
  },
  {
   "cell_type": "code",
   "execution_count": 34,
   "metadata": {},
   "outputs": [
    {
     "data": {
      "text/plain": [
       "842      427\n",
       "17987    317\n",
       "355      302\n",
       "2024     296\n",
       "2809     279\n",
       "        ... \n",
       "66068      1\n",
       "71046      1\n",
       "90602      1\n",
       "37414      1\n",
       "77032      1\n",
       "Name: userid, Length: 127448, dtype: int64"
      ]
     },
     "execution_count": 34,
     "metadata": {},
     "output_type": "execute_result"
    }
   ],
   "source": [
    "df.userid.value_counts()"
   ]
  },
  {
   "cell_type": "code",
   "execution_count": 35,
   "metadata": {},
   "outputs": [],
   "source": [
    "num_cols.append('userid')"
   ]
  },
  {
   "cell_type": "code",
   "execution_count": 36,
   "metadata": {},
   "outputs": [
    {
     "data": {
      "text/plain": [
       "1.0    719392\n",
       "0.0    128201\n",
       "Name: rating, dtype: int64"
      ]
     },
     "execution_count": 36,
     "metadata": {},
     "output_type": "execute_result"
    }
   ],
   "source": [
    "df.rating.value_counts()"
   ]
  },
  {
   "cell_type": "code",
   "execution_count": 37,
   "metadata": {},
   "outputs": [],
   "source": [
    "df['rating']=df['rating'].astype('int32')\n",
    "bin_cols.append('rating')"
   ]
  },
  {
   "cell_type": "code",
   "execution_count": 38,
   "metadata": {},
   "outputs": [
    {
     "data": {
      "text/plain": [
       "Grocery                      802613\n",
       "Health & Personal Care        31705\n",
       "Amazon Home                    7383\n",
       "All Beauty                     1522\n",
       "Sports & Outdoors              1322\n",
       "Industrial & Scientific         902\n",
       "Office Products                 631\n",
       "Toys & Games                    304\n",
       "Pet Supplies                    125\n",
       "Tools & Home Improvement         53\n",
       "Baby                             34\n",
       "Arts, Crafts & Sewing            19\n",
       "Home Audio & Theater              9\n",
       "Camera & Photo                    8\n",
       "Software                          3\n",
       "Musical Instruments               3\n",
       "Cell Phones & Accessories         2\n",
       "Name: main_cat, dtype: int64"
      ]
     },
     "execution_count": 38,
     "metadata": {},
     "output_type": "execute_result"
    }
   ],
   "source": [
    "df.main_cat.value_counts()"
   ]
  },
  {
   "cell_type": "code",
   "execution_count": 39,
   "metadata": {},
   "outputs": [],
   "source": [
    "df.main_cat = df.main_cat.fillna('others')"
   ]
  },
  {
   "cell_type": "code",
   "execution_count": 40,
   "metadata": {},
   "outputs": [
    {
     "data": {
      "text/plain": [
       "$14.99              14241\n",
       "$13.67              10660\n",
       "$19.99               9043\n",
       "$14.79               5632\n",
       "$15.53               5561\n",
       "                    ...  \n",
       "$2.08                   2\n",
       "$6.93                   1\n",
       "$35.16                  1\n",
       "$19.99 - $295.00        1\n",
       "$44.14                  1\n",
       "Name: price, Length: 4601, dtype: int64"
      ]
     },
     "execution_count": 40,
     "metadata": {},
     "output_type": "execute_result"
    }
   ],
   "source": [
    "df.price.value_counts()"
   ]
  },
  {
   "cell_type": "code",
   "execution_count": 41,
   "metadata": {},
   "outputs": [],
   "source": [
    "df['price'] = df['price'].astype('str')\n",
    "df['price'] = df['price'].apply(lambda x: re.sub('\\D', '', x))\n",
    "df['price'] = df['price'].apply(lambda x: 0 if x == '' else x)\n",
    "df['price'] = df['price'].astype('float')\n",
    "df['price'] = df['price'].apply(lambda x: x/100)"
   ]
  },
  {
   "cell_type": "code",
   "execution_count": 42,
   "metadata": {},
   "outputs": [
    {
     "name": "stdout",
     "output_type": "stream",
     "text": [
      "Всего выбросов: 18599 \n",
      "Верхняя граница выбросов: 53.75\n"
     ]
    }
   ],
   "source": [
    "IQR('price')"
   ]
  },
  {
   "cell_type": "code",
   "execution_count": 43,
   "metadata": {},
   "outputs": [],
   "source": [
    "df['price'] = df['price'].apply(lambda x: 0 if x > 100 else x)"
   ]
  },
  {
   "cell_type": "code",
   "execution_count": 44,
   "metadata": {},
   "outputs": [],
   "source": [
    "df['price'] = df['price'].astype('int')"
   ]
  },
  {
   "cell_type": "code",
   "execution_count": 45,
   "metadata": {},
   "outputs": [],
   "source": [
    "a = df['price'].mean()\n",
    "df['price'] = df['price'].apply(lambda x: a if x == 0 else x)"
   ]
  },
  {
   "cell_type": "code",
   "execution_count": 46,
   "metadata": {},
   "outputs": [
    {
     "data": {
      "text/plain": [
       "13.455983    264415\n",
       "14.000000     41302\n",
       "13.000000     33267\n",
       "9.000000      26349\n",
       "11.000000     23830\n",
       "              ...  \n",
       "88.000000        20\n",
       "90.000000        19\n",
       "81.000000        16\n",
       "97.000000        12\n",
       "91.000000         7\n",
       "Name: price, Length: 100, dtype: int64"
      ]
     },
     "execution_count": 46,
     "metadata": {},
     "output_type": "execute_result"
    }
   ],
   "source": [
    "df.price.value_counts()"
   ]
  },
  {
   "cell_type": "code",
   "execution_count": 47,
   "metadata": {},
   "outputs": [],
   "source": [
    "df[\"price\"] = df[\"price\"].apply(lambda x: 'low' if x < 10 else\n",
    "    'high' if x > 20 else 'middle')"
   ]
  },
  {
   "cell_type": "code",
   "execution_count": 48,
   "metadata": {},
   "outputs": [
    {
     "data": {
      "text/plain": [
       "0         [B00AJRKRJS, B01NALHAY9, B01DGZ2B48, B01EZ489A...\n",
       "1         [B00AJRKRJS, B01NALHAY9, B01DGZ2B48, B01EZ489A...\n",
       "2         [B00AJRKRJS, B01NALHAY9, B01DGZ2B48, B01EZ489A...\n",
       "3         [B00AJRKRJS, B01NALHAY9, B01DGZ2B48, B01EZ489A...\n",
       "4         [B00AJRKRJS, B01NALHAY9, B01DGZ2B48, B01EZ489A...\n",
       "                                ...                        \n",
       "847588    [B004RASYSE, B0007KLGC4, B004R34A48, B004ROS57...\n",
       "847589    [B073SHX9X9, B073SHFN7C, B06WWRK7VT, B079KKM9B...\n",
       "847590                                                  NaN\n",
       "847591                                                  NaN\n",
       "847592                                                  NaN\n",
       "Name: also_view, Length: 847593, dtype: object"
      ]
     },
     "execution_count": 48,
     "metadata": {},
     "output_type": "execute_result"
    }
   ],
   "source": [
    "df.also_view"
   ]
  },
  {
   "cell_type": "code",
   "execution_count": 49,
   "metadata": {},
   "outputs": [
    {
     "data": {
      "text/plain": [
       "0         [B01DGZ2B48, B01EZ489AO, B01DH795LM, B01EYW2LC...\n",
       "1         [B01DGZ2B48, B01EZ489AO, B01DH795LM, B01EYW2LC...\n",
       "2         [B01DGZ2B48, B01EZ489AO, B01DH795LM, B01EYW2LC...\n",
       "3         [B01DGZ2B48, B01EZ489AO, B01DH795LM, B01EYW2LC...\n",
       "4         [B01DGZ2B48, B01EZ489AO, B01DH795LM, B01EYW2LC...\n",
       "                                ...                        \n",
       "847588                                                  NaN\n",
       "847589    [B073SHX9X9, B01H68M39Y, B00GU19JRI, B0799CH1Z...\n",
       "847590    [B001O4EKJI, B002H1PS34, B00WRGGB7G, B005DOQME...\n",
       "847591                                                  NaN\n",
       "847592    [B019YHTJ2E, B000KHMWQS, B00MK5E2Q6, B00F9XCEM...\n",
       "Name: also_buy, Length: 847593, dtype: object"
      ]
     },
     "execution_count": 49,
     "metadata": {},
     "output_type": "execute_result"
    }
   ],
   "source": [
    "df.also_buy"
   ]
  },
  {
   "cell_type": "code",
   "execution_count": 50,
   "metadata": {},
   "outputs": [],
   "source": [
    "# coздадим пару features - количество продуктов и количество просмотров\n",
    "df['also_buy_numb'] = df['also_buy'].str.len()\n",
    "df['also_view_numb'] = df['also_view'].str.len()\n",
    "df['also_buy_numb'] = df['also_buy_numb'].fillna(0)\n",
    "df['also_view_numb'] = df['also_view_numb'].fillna(0)\n",
    "df['also_buy_numb'] = df['also_buy_numb'].astype(int)\n",
    "df['also_view_numb'] = df['also_view_numb'].astype(int)"
   ]
  },
  {
   "cell_type": "code",
   "execution_count": 51,
   "metadata": {},
   "outputs": [],
   "source": [
    "num_cols.append('also_buy_numb')\n",
    "num_cols.append('also_view_numb')"
   ]
  },
  {
   "cell_type": "code",
   "execution_count": 52,
   "metadata": {},
   "outputs": [],
   "source": [
    "df = df.drop(['also_buy'], axis = 1)\n",
    "df = df.drop(['also_view'], axis = 1)"
   ]
  },
  {
   "cell_type": "code",
   "execution_count": 53,
   "metadata": {},
   "outputs": [
    {
     "data": {
      "text/html": [
       "<div>\n",
       "<style scoped>\n",
       "    .dataframe tbody tr th:only-of-type {\n",
       "        vertical-align: middle;\n",
       "    }\n",
       "\n",
       "    .dataframe tbody tr th {\n",
       "        vertical-align: top;\n",
       "    }\n",
       "\n",
       "    .dataframe thead th {\n",
       "        text-align: right;\n",
       "    }\n",
       "</style>\n",
       "<table border=\"1\" class=\"dataframe\">\n",
       "  <thead>\n",
       "    <tr style=\"text-align: right;\">\n",
       "      <th></th>\n",
       "      <th>overall</th>\n",
       "      <th>verified</th>\n",
       "      <th>vote</th>\n",
       "      <th>userid</th>\n",
       "      <th>itemid</th>\n",
       "      <th>rating</th>\n",
       "      <th>main_cat</th>\n",
       "      <th>price</th>\n",
       "      <th>image_y</th>\n",
       "      <th>also_buy_numb</th>\n",
       "      <th>also_view_numb</th>\n",
       "    </tr>\n",
       "  </thead>\n",
       "  <tbody>\n",
       "    <tr>\n",
       "      <th>0</th>\n",
       "      <td>5</td>\n",
       "      <td>1</td>\n",
       "      <td>low</td>\n",
       "      <td>102179</td>\n",
       "      <td>37138</td>\n",
       "      <td>1</td>\n",
       "      <td>Grocery</td>\n",
       "      <td>low</td>\n",
       "      <td>[https://images-na.ssl-images-amazon.com/image...</td>\n",
       "      <td>85</td>\n",
       "      <td>54</td>\n",
       "    </tr>\n",
       "    <tr>\n",
       "      <th>1</th>\n",
       "      <td>5</td>\n",
       "      <td>0</td>\n",
       "      <td>low</td>\n",
       "      <td>117314</td>\n",
       "      <td>37138</td>\n",
       "      <td>1</td>\n",
       "      <td>Grocery</td>\n",
       "      <td>low</td>\n",
       "      <td>[https://images-na.ssl-images-amazon.com/image...</td>\n",
       "      <td>85</td>\n",
       "      <td>54</td>\n",
       "    </tr>\n",
       "  </tbody>\n",
       "</table>\n",
       "</div>"
      ],
      "text/plain": [
       "   overall  verified vote  userid  itemid  rating main_cat price  \\\n",
       "0        5         1  low  102179   37138       1  Grocery   low   \n",
       "1        5         0  low  117314   37138       1  Grocery   low   \n",
       "\n",
       "                                             image_y  also_buy_numb  \\\n",
       "0  [https://images-na.ssl-images-amazon.com/image...             85   \n",
       "1  [https://images-na.ssl-images-amazon.com/image...             85   \n",
       "\n",
       "   also_view_numb  \n",
       "0              54  \n",
       "1              54  "
      ]
     },
     "execution_count": 53,
     "metadata": {},
     "output_type": "execute_result"
    }
   ],
   "source": [
    "df.head(2)"
   ]
  },
  {
   "cell_type": "code",
   "execution_count": 54,
   "metadata": {},
   "outputs": [
    {
     "name": "stdout",
     "output_type": "stream",
     "text": [
      "<class 'pandas.core.frame.DataFrame'>\n",
      "Int64Index: 847593 entries, 0 to 847592\n",
      "Data columns (total 11 columns):\n",
      " #   Column          Non-Null Count   Dtype \n",
      "---  ------          --------------   ----- \n",
      " 0   overall         847593 non-null  int32 \n",
      " 1   verified        847593 non-null  int32 \n",
      " 2   vote            847593 non-null  object\n",
      " 3   userid          847593 non-null  int64 \n",
      " 4   itemid          847593 non-null  int64 \n",
      " 5   rating          847593 non-null  int32 \n",
      " 6   main_cat        847593 non-null  object\n",
      " 7   price           847593 non-null  object\n",
      " 8   image_y         755354 non-null  object\n",
      " 9   also_buy_numb   847593 non-null  int32 \n",
      " 10  also_view_numb  847593 non-null  int32 \n",
      "dtypes: int32(5), int64(2), object(4)\n",
      "memory usage: 101.4+ MB\n"
     ]
    }
   ],
   "source": [
    "df.info()"
   ]
  },
  {
   "cell_type": "code",
   "execution_count": 55,
   "metadata": {},
   "outputs": [
    {
     "data": {
      "text/plain": [
       "0         [https://images-na.ssl-images-amazon.com/image...\n",
       "1         [https://images-na.ssl-images-amazon.com/image...\n",
       "2         [https://images-na.ssl-images-amazon.com/image...\n",
       "3         [https://images-na.ssl-images-amazon.com/image...\n",
       "4         [https://images-na.ssl-images-amazon.com/image...\n",
       "                                ...                        \n",
       "847588    [https://images-na.ssl-images-amazon.com/image...\n",
       "847589    [https://images-na.ssl-images-amazon.com/image...\n",
       "847590    [https://images-na.ssl-images-amazon.com/image...\n",
       "847591                                                  NaN\n",
       "847592                                                  NaN\n",
       "Name: image_y, Length: 847593, dtype: object"
      ]
     },
     "execution_count": 55,
     "metadata": {},
     "output_type": "execute_result"
    }
   ],
   "source": [
    "df.image_y"
   ]
  },
  {
   "cell_type": "code",
   "execution_count": 56,
   "metadata": {},
   "outputs": [],
   "source": [
    "df['image_y'] = df['image_y'].fillna(0)\n",
    "df['image']= df['image_y'].apply(lambda x: 0 if x==0 else 1)\n",
    "bin_cols.append('image')"
   ]
  },
  {
   "cell_type": "code",
   "execution_count": 57,
   "metadata": {},
   "outputs": [],
   "source": [
    "df = df.drop(['image_y'], axis=1)"
   ]
  },
  {
   "cell_type": "code",
   "execution_count": 58,
   "metadata": {},
   "outputs": [
    {
     "data": {
      "text/html": [
       "<div>\n",
       "<style scoped>\n",
       "    .dataframe tbody tr th:only-of-type {\n",
       "        vertical-align: middle;\n",
       "    }\n",
       "\n",
       "    .dataframe tbody tr th {\n",
       "        vertical-align: top;\n",
       "    }\n",
       "\n",
       "    .dataframe thead th {\n",
       "        text-align: right;\n",
       "    }\n",
       "</style>\n",
       "<table border=\"1\" class=\"dataframe\">\n",
       "  <thead>\n",
       "    <tr style=\"text-align: right;\">\n",
       "      <th></th>\n",
       "      <th>overall</th>\n",
       "      <th>verified</th>\n",
       "      <th>vote</th>\n",
       "      <th>userid</th>\n",
       "      <th>itemid</th>\n",
       "      <th>rating</th>\n",
       "      <th>main_cat</th>\n",
       "      <th>price</th>\n",
       "      <th>also_buy_numb</th>\n",
       "      <th>also_view_numb</th>\n",
       "      <th>image</th>\n",
       "    </tr>\n",
       "  </thead>\n",
       "  <tbody>\n",
       "    <tr>\n",
       "      <th>0</th>\n",
       "      <td>5</td>\n",
       "      <td>1</td>\n",
       "      <td>low</td>\n",
       "      <td>102179</td>\n",
       "      <td>37138</td>\n",
       "      <td>1</td>\n",
       "      <td>Grocery</td>\n",
       "      <td>low</td>\n",
       "      <td>85</td>\n",
       "      <td>54</td>\n",
       "      <td>1</td>\n",
       "    </tr>\n",
       "    <tr>\n",
       "      <th>1</th>\n",
       "      <td>5</td>\n",
       "      <td>0</td>\n",
       "      <td>low</td>\n",
       "      <td>117314</td>\n",
       "      <td>37138</td>\n",
       "      <td>1</td>\n",
       "      <td>Grocery</td>\n",
       "      <td>low</td>\n",
       "      <td>85</td>\n",
       "      <td>54</td>\n",
       "      <td>1</td>\n",
       "    </tr>\n",
       "    <tr>\n",
       "      <th>2</th>\n",
       "      <td>3</td>\n",
       "      <td>1</td>\n",
       "      <td>middle</td>\n",
       "      <td>119505</td>\n",
       "      <td>37138</td>\n",
       "      <td>0</td>\n",
       "      <td>Grocery</td>\n",
       "      <td>low</td>\n",
       "      <td>85</td>\n",
       "      <td>54</td>\n",
       "      <td>1</td>\n",
       "    </tr>\n",
       "  </tbody>\n",
       "</table>\n",
       "</div>"
      ],
      "text/plain": [
       "   overall  verified    vote  userid  itemid  rating main_cat price  \\\n",
       "0        5         1     low  102179   37138       1  Grocery   low   \n",
       "1        5         0     low  117314   37138       1  Grocery   low   \n",
       "2        3         1  middle  119505   37138       0  Grocery   low   \n",
       "\n",
       "   also_buy_numb  also_view_numb  image  \n",
       "0             85              54      1  \n",
       "1             85              54      1  \n",
       "2             85              54      1  "
      ]
     },
     "execution_count": 58,
     "metadata": {},
     "output_type": "execute_result"
    }
   ],
   "source": [
    "df.head(3)"
   ]
  },
  {
   "cell_type": "code",
   "execution_count": 59,
   "metadata": {},
   "outputs": [],
   "source": [
    "# преобразование с помощью LabelEncoder()\n",
    "label_encoder = LabelEncoder()"
   ]
  },
  {
   "cell_type": "code",
   "execution_count": 60,
   "metadata": {},
   "outputs": [
    {
     "name": "stdout",
     "output_type": "stream",
     "text": [
      "{0: 'high', 1: 'low', 2: 'middle'}\n"
     ]
    }
   ],
   "source": [
    "mapped = pd.Series(label_encoder.fit_transform(df['vote']))\n",
    "print(dict(enumerate(label_encoder.classes_)))"
   ]
  },
  {
   "cell_type": "code",
   "execution_count": 61,
   "metadata": {},
   "outputs": [
    {
     "data": {
      "text/html": [
       "<div>\n",
       "<style scoped>\n",
       "    .dataframe tbody tr th:only-of-type {\n",
       "        vertical-align: middle;\n",
       "    }\n",
       "\n",
       "    .dataframe tbody tr th {\n",
       "        vertical-align: top;\n",
       "    }\n",
       "\n",
       "    .dataframe thead th {\n",
       "        text-align: right;\n",
       "    }\n",
       "</style>\n",
       "<table border=\"1\" class=\"dataframe\">\n",
       "  <thead>\n",
       "    <tr style=\"text-align: right;\">\n",
       "      <th></th>\n",
       "      <th>overall</th>\n",
       "      <th>verified</th>\n",
       "      <th>vote</th>\n",
       "      <th>userid</th>\n",
       "      <th>itemid</th>\n",
       "      <th>rating</th>\n",
       "      <th>main_cat</th>\n",
       "      <th>price</th>\n",
       "      <th>also_buy_numb</th>\n",
       "      <th>also_view_numb</th>\n",
       "      <th>image</th>\n",
       "    </tr>\n",
       "  </thead>\n",
       "  <tbody>\n",
       "    <tr>\n",
       "      <th>537698</th>\n",
       "      <td>5</td>\n",
       "      <td>1</td>\n",
       "      <td>2</td>\n",
       "      <td>25301</td>\n",
       "      <td>18083</td>\n",
       "      <td>1</td>\n",
       "      <td>Grocery</td>\n",
       "      <td>middle</td>\n",
       "      <td>42</td>\n",
       "      <td>0</td>\n",
       "      <td>1</td>\n",
       "    </tr>\n",
       "    <tr>\n",
       "      <th>23045</th>\n",
       "      <td>5</td>\n",
       "      <td>1</td>\n",
       "      <td>1</td>\n",
       "      <td>37774</td>\n",
       "      <td>32178</td>\n",
       "      <td>1</td>\n",
       "      <td>Grocery</td>\n",
       "      <td>low</td>\n",
       "      <td>96</td>\n",
       "      <td>0</td>\n",
       "      <td>1</td>\n",
       "    </tr>\n",
       "    <tr>\n",
       "      <th>596098</th>\n",
       "      <td>5</td>\n",
       "      <td>1</td>\n",
       "      <td>1</td>\n",
       "      <td>20214</td>\n",
       "      <td>19025</td>\n",
       "      <td>1</td>\n",
       "      <td>Grocery</td>\n",
       "      <td>high</td>\n",
       "      <td>21</td>\n",
       "      <td>0</td>\n",
       "      <td>1</td>\n",
       "    </tr>\n",
       "  </tbody>\n",
       "</table>\n",
       "</div>"
      ],
      "text/plain": [
       "        overall  verified  vote  userid  itemid  rating main_cat   price  \\\n",
       "537698        5         1     2   25301   18083       1  Grocery  middle   \n",
       "23045         5         1     1   37774   32178       1  Grocery     low   \n",
       "596098        5         1     1   20214   19025       1  Grocery    high   \n",
       "\n",
       "        also_buy_numb  also_view_numb  image  \n",
       "537698             42               0      1  \n",
       "23045              96               0      1  \n",
       "596098             21               0      1  "
      ]
     },
     "execution_count": 61,
     "metadata": {},
     "output_type": "execute_result"
    }
   ],
   "source": [
    "df['vote'] = label_encoder.fit_transform(df['vote'])\n",
    "df.sample(3)"
   ]
  },
  {
   "cell_type": "code",
   "execution_count": 62,
   "metadata": {},
   "outputs": [],
   "source": [
    "cat_cols.append('vote')"
   ]
  },
  {
   "cell_type": "code",
   "execution_count": 63,
   "metadata": {},
   "outputs": [
    {
     "name": "stdout",
     "output_type": "stream",
     "text": [
      "{0: 'All Beauty', 1: 'Amazon Home', 2: 'Arts, Crafts & Sewing', 3: 'Baby', 4: 'Camera & Photo', 5: 'Cell Phones & Accessories', 6: 'Grocery', 7: 'Health & Personal Care', 8: 'Home Audio & Theater', 9: 'Industrial & Scientific', 10: 'Musical Instruments', 11: 'Office Products', 12: 'Pet Supplies', 13: 'Software', 14: 'Sports & Outdoors', 15: 'Tools & Home Improvement', 16: 'Toys & Games', 17: 'others'}\n"
     ]
    }
   ],
   "source": [
    "mapped = pd.Series(label_encoder.fit_transform(df['main_cat']))\n",
    "print(dict(enumerate(label_encoder.classes_)))\n",
    "df['main_cat'] = label_encoder.fit_transform(df['main_cat'])\n",
    "cat_cols.append('main_cat')"
   ]
  },
  {
   "cell_type": "code",
   "execution_count": 64,
   "metadata": {},
   "outputs": [
    {
     "data": {
      "text/html": [
       "<div>\n",
       "<style scoped>\n",
       "    .dataframe tbody tr th:only-of-type {\n",
       "        vertical-align: middle;\n",
       "    }\n",
       "\n",
       "    .dataframe tbody tr th {\n",
       "        vertical-align: top;\n",
       "    }\n",
       "\n",
       "    .dataframe thead th {\n",
       "        text-align: right;\n",
       "    }\n",
       "</style>\n",
       "<table border=\"1\" class=\"dataframe\">\n",
       "  <thead>\n",
       "    <tr style=\"text-align: right;\">\n",
       "      <th></th>\n",
       "      <th>overall</th>\n",
       "      <th>verified</th>\n",
       "      <th>vote</th>\n",
       "      <th>userid</th>\n",
       "      <th>itemid</th>\n",
       "      <th>rating</th>\n",
       "      <th>main_cat</th>\n",
       "      <th>price</th>\n",
       "      <th>also_buy_numb</th>\n",
       "      <th>also_view_numb</th>\n",
       "      <th>image</th>\n",
       "    </tr>\n",
       "  </thead>\n",
       "  <tbody>\n",
       "    <tr>\n",
       "      <th>0</th>\n",
       "      <td>5</td>\n",
       "      <td>1</td>\n",
       "      <td>1</td>\n",
       "      <td>102179</td>\n",
       "      <td>37138</td>\n",
       "      <td>1</td>\n",
       "      <td>6</td>\n",
       "      <td>low</td>\n",
       "      <td>85</td>\n",
       "      <td>54</td>\n",
       "      <td>1</td>\n",
       "    </tr>\n",
       "    <tr>\n",
       "      <th>1</th>\n",
       "      <td>5</td>\n",
       "      <td>0</td>\n",
       "      <td>1</td>\n",
       "      <td>117314</td>\n",
       "      <td>37138</td>\n",
       "      <td>1</td>\n",
       "      <td>6</td>\n",
       "      <td>low</td>\n",
       "      <td>85</td>\n",
       "      <td>54</td>\n",
       "      <td>1</td>\n",
       "    </tr>\n",
       "  </tbody>\n",
       "</table>\n",
       "</div>"
      ],
      "text/plain": [
       "   overall  verified  vote  userid  itemid  rating  main_cat price  \\\n",
       "0        5         1     1  102179   37138       1         6   low   \n",
       "1        5         0     1  117314   37138       1         6   low   \n",
       "\n",
       "   also_buy_numb  also_view_numb  image  \n",
       "0             85              54      1  \n",
       "1             85              54      1  "
      ]
     },
     "execution_count": 64,
     "metadata": {},
     "output_type": "execute_result"
    }
   ],
   "source": [
    "dummies = pd.get_dummies(df['price'], prefix = df['price'].name)\n",
    "df.head(2)"
   ]
  },
  {
   "cell_type": "code",
   "execution_count": 65,
   "metadata": {},
   "outputs": [],
   "source": [
    "df = df.drop(df['price'].name, axis=1).join(dummies)\n",
    "bin_cols.append('price_high')\n",
    "bin_cols.append('price_middle')\n",
    "bin_cols.append('price_low')"
   ]
  },
  {
   "cell_type": "code",
   "execution_count": 66,
   "metadata": {},
   "outputs": [
    {
     "data": {
      "text/html": [
       "<div>\n",
       "<style scoped>\n",
       "    .dataframe tbody tr th:only-of-type {\n",
       "        vertical-align: middle;\n",
       "    }\n",
       "\n",
       "    .dataframe tbody tr th {\n",
       "        vertical-align: top;\n",
       "    }\n",
       "\n",
       "    .dataframe thead th {\n",
       "        text-align: right;\n",
       "    }\n",
       "</style>\n",
       "<table border=\"1\" class=\"dataframe\">\n",
       "  <thead>\n",
       "    <tr style=\"text-align: right;\">\n",
       "      <th></th>\n",
       "      <th>overall</th>\n",
       "      <th>verified</th>\n",
       "      <th>vote</th>\n",
       "      <th>userid</th>\n",
       "      <th>itemid</th>\n",
       "      <th>rating</th>\n",
       "      <th>main_cat</th>\n",
       "      <th>also_buy_numb</th>\n",
       "      <th>also_view_numb</th>\n",
       "      <th>image</th>\n",
       "      <th>price_high</th>\n",
       "      <th>price_low</th>\n",
       "      <th>price_middle</th>\n",
       "    </tr>\n",
       "  </thead>\n",
       "  <tbody>\n",
       "    <tr>\n",
       "      <th>0</th>\n",
       "      <td>5</td>\n",
       "      <td>1</td>\n",
       "      <td>1</td>\n",
       "      <td>102179</td>\n",
       "      <td>37138</td>\n",
       "      <td>1</td>\n",
       "      <td>6</td>\n",
       "      <td>85</td>\n",
       "      <td>54</td>\n",
       "      <td>1</td>\n",
       "      <td>0</td>\n",
       "      <td>1</td>\n",
       "      <td>0</td>\n",
       "    </tr>\n",
       "    <tr>\n",
       "      <th>1</th>\n",
       "      <td>5</td>\n",
       "      <td>0</td>\n",
       "      <td>1</td>\n",
       "      <td>117314</td>\n",
       "      <td>37138</td>\n",
       "      <td>1</td>\n",
       "      <td>6</td>\n",
       "      <td>85</td>\n",
       "      <td>54</td>\n",
       "      <td>1</td>\n",
       "      <td>0</td>\n",
       "      <td>1</td>\n",
       "      <td>0</td>\n",
       "    </tr>\n",
       "    <tr>\n",
       "      <th>2</th>\n",
       "      <td>3</td>\n",
       "      <td>1</td>\n",
       "      <td>2</td>\n",
       "      <td>119505</td>\n",
       "      <td>37138</td>\n",
       "      <td>0</td>\n",
       "      <td>6</td>\n",
       "      <td>85</td>\n",
       "      <td>54</td>\n",
       "      <td>1</td>\n",
       "      <td>0</td>\n",
       "      <td>1</td>\n",
       "      <td>0</td>\n",
       "    </tr>\n",
       "  </tbody>\n",
       "</table>\n",
       "</div>"
      ],
      "text/plain": [
       "   overall  verified  vote  userid  itemid  rating  main_cat  also_buy_numb  \\\n",
       "0        5         1     1  102179   37138       1         6             85   \n",
       "1        5         0     1  117314   37138       1         6             85   \n",
       "2        3         1     2  119505   37138       0         6             85   \n",
       "\n",
       "   also_view_numb  image  price_high  price_low  price_middle  \n",
       "0              54      1           0          1             0  \n",
       "1              54      1           0          1             0  \n",
       "2              54      1           0          1             0  "
      ]
     },
     "execution_count": 66,
     "metadata": {},
     "output_type": "execute_result"
    }
   ],
   "source": [
    "df.head(3)"
   ]
  },
  {
   "cell_type": "code",
   "execution_count": 67,
   "metadata": {},
   "outputs": [
    {
     "data": {
      "text/plain": [
       "<matplotlib.axes._subplots.AxesSubplot at 0x293cef39880>"
      ]
     },
     "execution_count": 67,
     "metadata": {},
     "output_type": "execute_result"
    },
    {
     "data": {
      "image/png": "[encoded data removed]",
      "text/plain": [
       "<Figure size 864x864 with 2 Axes>"
      ]
     },
     "metadata": {},
     "output_type": "display_data"
    }
   ],
   "source": [
    "sns.set(font_scale=1)\n",
    "plt.subplots(figsize=(12, 12))\n",
    "sns.heatmap(df.corr(), square=True,\n",
    "              annot=True, fmt=\".1f\", linewidths=0.1, cmap=\"RdBu\")"
   ]
  },
  {
   "cell_type": "code",
   "execution_count": 68,
   "metadata": {},
   "outputs": [],
   "source": [
    "df = df.drop(['overall'], axis = 1)"
   ]
  },
  {
   "cell_type": "code",
   "execution_count": 69,
   "metadata": {},
   "outputs": [
    {
     "name": "stdout",
     "output_type": "stream",
     "text": [
      "Найдены статистически значимые различия для колонки verified\n",
      "Найдены статистически значимые различия для колонки rating\n",
      "Найдены статистически значимые различия для колонки image\n",
      "Найдены статистически значимые различия для колонки price_high\n",
      "Найдены статистически значимые различия для колонки price_middle\n",
      "Найдены статистически значимые различия для колонки price_low\n"
     ]
    }
   ],
   "source": [
    "for col in bin_cols:\n",
    "    get_stat_dif(col)"
   ]
  },
  {
   "cell_type": "code",
   "execution_count": 70,
   "metadata": {},
   "outputs": [],
   "source": [
    "train_data, test_data = train_test_split(train,random_state=32, shuffle=True)"
   ]
  },
  {
   "cell_type": "code",
   "execution_count": 71,
   "metadata": {},
   "outputs": [],
   "source": [
    "ratings_coo = sparse.coo_matrix((train_data['rating'].astype(int),\n",
    "                                 (train_data['userid'],\n",
    "                                  train_data['itemid'])))\n",
    "NUM_THREADS = 4 #число потоков\n",
    "NUM_COMPONENTS = 160 #число параметров вектора \n",
    "NUM_EPOCHS = 20 #число эпох обучения\n",
    "RANDOM_STATE = 32\n",
    "\n",
    "\n",
    "model = LightFM(learning_rate=0.09, loss='logistic',\n",
    "                no_components=NUM_COMPONENTS, random_state = RANDOM_STATE)\n",
    "model = model.fit(ratings_coo, epochs=NUM_EPOCHS, \n",
    "                  num_threads=NUM_THREADS)"
   ]
  },
  {
   "cell_type": "code",
   "execution_count": 72,
   "metadata": {},
   "outputs": [],
   "source": [
    "preds = model.predict(test_data.userid.values,\n",
    "                      test_data.itemid.values)"
   ]
  },
  {
   "cell_type": "code",
   "execution_count": 73,
   "metadata": {},
   "outputs": [
    {
     "data": {
      "text/plain": [
       "0.7315118251480361"
      ]
     },
     "execution_count": 73,
     "metadata": {},
     "output_type": "execute_result"
    }
   ],
   "source": [
    "sklearn.metrics.roc_auc_score(test_data.rating,preds)"
   ]
  },
  {
   "cell_type": "code",
   "execution_count": 74,
   "metadata": {},
   "outputs": [
    {
     "data": {
      "image/png": "[encoded data removed]",
      "text/plain": [
       "<Figure size 432x288 with 1 Axes>"
      ]
     },
     "metadata": {},
     "output_type": "display_data"
    }
   ],
   "source": [
    "roc_auc_curve(test_data.rating,preds)"
   ]
  },
  {
   "cell_type": "code",
   "execution_count": 75,
   "metadata": {},
   "outputs": [],
   "source": [
    "normalized_preds = (preds - preds.min())/(preds - preds.min()).max()"
   ]
  },
  {
   "cell_type": "code",
   "execution_count": 76,
   "metadata": {},
   "outputs": [
    {
     "data": {
      "text/plain": [
       "(-34.03071, 33.507935)"
      ]
     },
     "execution_count": 76,
     "metadata": {},
     "output_type": "execute_result"
    }
   ],
   "source": [
    "preds.min(), preds.max()"
   ]
  },
  {
   "cell_type": "code",
   "execution_count": 78,
   "metadata": {},
   "outputs": [],
   "source": [
    "train_data, test_data = train_test_split(df,random_state=32, shuffle=True)\n",
    "ratings_coo2 = sparse.coo_matrix((train_data['rating'].astype(int),\n",
    "                                 (train_data['userid'],\n",
    "                                  train_data['itemid'])))\n",
    "\n",
    "model = LightFM(learning_rate=0.1, loss='logistic',\n",
    "                no_components=NUM_COMPONENTS, random_state = RANDOM_STATE)\n",
    "model2 = model.fit(ratings_coo2, epochs=NUM_EPOCHS, \n",
    "                  num_threads=NUM_THREADS)"
   ]
  },
  {
   "cell_type": "code",
   "execution_count": 79,
   "metadata": {},
   "outputs": [],
   "source": [
    "preds2 = model2.predict(test_data.userid.values,\n",
    "                      test_data.itemid.values)"
   ]
  },
  {
   "cell_type": "code",
   "execution_count": 80,
   "metadata": {},
   "outputs": [
    {
     "data": {
      "text/plain": [
       "0.7419578807987918"
      ]
     },
     "execution_count": 80,
     "metadata": {},
     "output_type": "execute_result"
    }
   ],
   "source": [
    "sklearn.metrics.roc_auc_score(test_data.rating,preds2)"
   ]
  },
  {
   "cell_type": "code",
   "execution_count": 81,
   "metadata": {},
   "outputs": [
    {
     "data": {
      "image/png": "[encoded data removed]",
      "text/plain": [
       "<Figure size 432x288 with 1 Axes>"
      ]
     },
     "metadata": {},
     "output_type": "display_data"
    }
   ],
   "source": [
    "roc_auc_curve(test_data.rating,preds2)"
   ]
  },
  {
   "cell_type": "code",
   "execution_count": 82,
   "metadata": {},
   "outputs": [
    {
     "data": {
      "text/plain": [
       "(-35.75574, 27.413054)"
      ]
     },
     "execution_count": 82,
     "metadata": {},
     "output_type": "execute_result"
    }
   ],
   "source": [
    "normalized_preds2 = (preds2 - preds2.min())/(preds2 - preds2.min()).max()\n",
    "preds2.min(), preds2.max()"
   ]
  },
  {
   "cell_type": "code",
   "execution_count": 84,
   "metadata": {},
   "outputs": [],
   "source": [
    "preds_sub = model2.predict(test.userid.values,\n",
    "                      test.itemid.values)"
   ]
  },
  {
   "cell_type": "code",
   "execution_count": 85,
   "metadata": {},
   "outputs": [
    {
     "data": {
      "text/plain": [
       "(-33.06127, 28.156012)"
      ]
     },
     "execution_count": 85,
     "metadata": {},
     "output_type": "execute_result"
    }
   ],
   "source": [
    "normalized_preds_sub = (preds_sub - preds_sub.min())/(preds_sub - preds_sub.min()).max()\n",
    "preds_sub.min(), preds_sub.max()"
   ]
  },
  {
   "cell_type": "code",
   "execution_count": 89,
   "metadata": {},
   "outputs": [],
   "source": [
    "item_features = train_data[['image','main_cat','price_high','price_low','price_middle']]\n",
    "norm_ifeatures = (item_features - item_features.mean()) / item_features.std()\n",
    "item_features=(sparse.csr_matrix(norm_ifeatures)).astype(np.float32)"
   ]
  },
  {
   "cell_type": "code",
   "execution_count": 90,
   "metadata": {},
   "outputs": [],
   "source": [
    "user_features = train_data[['verified','vote','also_buy_numb','also_view_numb']]\n",
    "norm_ufeatures = (user_features - user_features.mean()) / user_features.std()\n",
    "user_features = (sparse.csr_matrix(norm_ufeatures)).astype(np.float32)"
   ]
  },
  {
   "cell_type": "code",
   "execution_count": 91,
   "metadata": {},
   "outputs": [],
   "source": [
    "NUM_THREADS = 4  # число потоков\n",
    "NUM_COMPONENTS = 160  # число параметров вектора\n",
    "NUM_EPOCHS = 20  # число эпох обучения\n",
    "RANDOM_STATE = 32\n",
    "model = LightFM(learning_rate=0.09, loss='logistic',\n",
    "                no_components=NUM_COMPONENTS)\n",
    "model_feat = model.fit(ratings_coo, user_features=user_features, item_features=item_features, epochs=NUM_EPOCHS,\n",
    "                       num_threads=NUM_THREADS)"
   ]
  },
  {
   "cell_type": "code",
   "execution_count": 92,
   "metadata": {},
   "outputs": [],
   "source": [
    "userid = np.array(test_data.userid).astype(np.int32)\n",
    "itemid =np.array(test_data.itemid).astype(np.int32) "
   ]
  },
  {
   "cell_type": "code",
   "execution_count": 93,
   "metadata": {},
   "outputs": [],
   "source": [
    "preds0 = model_feat.predict(userid, itemid, item_features=item_features,\n",
    "                            user_features=user_features,num_threads=NUM_THREADS)"
   ]
  },
  {
   "cell_type": "code",
   "execution_count": 94,
   "metadata": {},
   "outputs": [
    {
     "data": {
      "text/plain": [
       "0.5007680257473082"
      ]
     },
     "execution_count": 94,
     "metadata": {},
     "output_type": "execute_result"
    }
   ],
   "source": [
    "sklearn.metrics.roc_auc_score(test_data.rating,preds0)"
   ]
  },
  {
   "cell_type": "code",
   "execution_count": 95,
   "metadata": {},
   "outputs": [
    {
     "data": {
      "text/plain": [
       "((41320,), (41320, 160))"
      ]
     },
     "execution_count": 95,
     "metadata": {},
     "output_type": "execute_result"
    }
   ],
   "source": [
    "item_biases, item_embeddings = model2.get_item_representations()\n",
    "item_biases.shape, item_embeddings.shape"
   ]
  },
  {
   "cell_type": "code",
   "execution_count": 97,
   "metadata": {},
   "outputs": [],
   "source": [
    "#Создаём граф для поиска\n",
    "nms_idx = nmslib.init(method='hnsw', space='cosinesimil')"
   ]
  },
  {
   "cell_type": "code",
   "execution_count": 98,
   "metadata": {},
   "outputs": [],
   "source": [
    "nms_idx.addDataPointBatch(item_embeddings)\n",
    "nms_idx.createIndex(print_progress=True)"
   ]
  },
  {
   "cell_type": "code",
   "execution_count": 100,
   "metadata": {},
   "outputs": [],
   "source": [
    "mapper = dict(zip(meta['asin'],meta['title']))"
   ]
  },
  {
   "cell_type": "code",
   "execution_count": 102,
   "metadata": {},
   "outputs": [],
   "source": [
    "train['title'] = train.asin.apply(lambda x: mapper[x])\n",
    "test['title'] = test.asin.apply(lambda x: mapper[x])\n",
    "prod_id = train.drop(['verified','reviewTime','reviewerName',\n",
    "                      'reviewText','summary','vote','style','image'],axis=1)"
   ]
  },
  {
   "cell_type": "code",
   "execution_count": 109,
   "metadata": {},
   "outputs": [
    {
     "data": {
      "text/html": [
       "<div>\n",
       "<style scoped>\n",
       "    .dataframe tbody tr th:only-of-type {\n",
       "        vertical-align: middle;\n",
       "    }\n",
       "\n",
       "    .dataframe tbody tr th {\n",
       "        vertical-align: top;\n",
       "    }\n",
       "\n",
       "    .dataframe thead th {\n",
       "        text-align: right;\n",
       "    }\n",
       "</style>\n",
       "<table border=\"1\" class=\"dataframe\">\n",
       "  <thead>\n",
       "    <tr style=\"text-align: right;\">\n",
       "      <th></th>\n",
       "      <th>overall</th>\n",
       "      <th>asin</th>\n",
       "      <th>unixReviewTime</th>\n",
       "      <th>userid</th>\n",
       "      <th>itemid</th>\n",
       "      <th>rating</th>\n",
       "      <th>title</th>\n",
       "    </tr>\n",
       "  </thead>\n",
       "  <tbody>\n",
       "    <tr>\n",
       "      <th>4</th>\n",
       "      <td>5.0</td>\n",
       "      <td>B000R7RN0G</td>\n",
       "      <td>1473811200</td>\n",
       "      <td>74859</td>\n",
       "      <td>4349</td>\n",
       "      <td>1.0</td>\n",
       "      <td>Miss Vickie's Jalapeño Flavored Kettle Cooked ...</td>\n",
       "    </tr>\n",
       "    <tr>\n",
       "      <th>12</th>\n",
       "      <td>5.0</td>\n",
       "      <td>B00MBVD5DA</td>\n",
       "      <td>1440115200</td>\n",
       "      <td>116113</td>\n",
       "      <td>29984</td>\n",
       "      <td>1.0</td>\n",
       "      <td>Indus Organics Dried Coconut Chips/shreds, Raw...</td>\n",
       "    </tr>\n",
       "    <tr>\n",
       "      <th>67</th>\n",
       "      <td>4.0</td>\n",
       "      <td>B004CYJXQW</td>\n",
       "      <td>1409788800</td>\n",
       "      <td>49815</td>\n",
       "      <td>13252</td>\n",
       "      <td>1.0</td>\n",
       "      <td>Special K Cracker Chips, Sea Salt, 3.48 Ounce ...</td>\n",
       "    </tr>\n",
       "    <tr>\n",
       "      <th>82</th>\n",
       "      <td>4.0</td>\n",
       "      <td>B013IG9KVW</td>\n",
       "      <td>1357776000</td>\n",
       "      <td>46481</td>\n",
       "      <td>34947</td>\n",
       "      <td>1.0</td>\n",
       "      <td>Stacy's Parmesan Garlic &amp; Herb Flavored Pita C...</td>\n",
       "    </tr>\n",
       "    <tr>\n",
       "      <th>202</th>\n",
       "      <td>5.0</td>\n",
       "      <td>B00HQDVRU6</td>\n",
       "      <td>1475712000</td>\n",
       "      <td>24352</td>\n",
       "      <td>26993</td>\n",
       "      <td>1.0</td>\n",
       "      <td>Kettle Brand Potato Chips, Sriracha, 8.5 Ounce...</td>\n",
       "    </tr>\n",
       "  </tbody>\n",
       "</table>\n",
       "</div>"
      ],
      "text/plain": [
       "     overall        asin  unixReviewTime  userid  itemid  rating  \\\n",
       "4        5.0  B000R7RN0G      1473811200   74859    4349     1.0   \n",
       "12       5.0  B00MBVD5DA      1440115200  116113   29984     1.0   \n",
       "67       4.0  B004CYJXQW      1409788800   49815   13252     1.0   \n",
       "82       4.0  B013IG9KVW      1357776000   46481   34947     1.0   \n",
       "202      5.0  B00HQDVRU6      1475712000   24352   26993     1.0   \n",
       "\n",
       "                                                 title  \n",
       "4    Miss Vickie's Jalapeño Flavored Kettle Cooked ...  \n",
       "12   Indus Organics Dried Coconut Chips/shreds, Raw...  \n",
       "67   Special K Cracker Chips, Sea Salt, 3.48 Ounce ...  \n",
       "82   Stacy's Parmesan Garlic & Herb Flavored Pita C...  \n",
       "202  Kettle Brand Potato Chips, Sriracha, 8.5 Ounce...  "
      ]
     },
     "execution_count": 109,
     "metadata": {},
     "output_type": "execute_result"
    }
   ],
   "source": [
    "prod_id[prod_id.title.str.find('Chips')>=0].head(5)"
   ]
  },
  {
   "cell_type": "code",
   "execution_count": 110,
   "metadata": {},
   "outputs": [],
   "source": [
    "# Ищем похожие товары\n",
    "nbm = nearest_item_nms(67,nms_idx)[0]"
   ]
  },
  {
   "cell_type": "code",
   "execution_count": 111,
   "metadata": {},
   "outputs": [
    {
     "data": {
      "text/html": [
       "<div>\n",
       "<style scoped>\n",
       "    .dataframe tbody tr th:only-of-type {\n",
       "        vertical-align: middle;\n",
       "    }\n",
       "\n",
       "    .dataframe tbody tr th {\n",
       "        vertical-align: top;\n",
       "    }\n",
       "\n",
       "    .dataframe thead th {\n",
       "        text-align: right;\n",
       "    }\n",
       "</style>\n",
       "<table border=\"1\" class=\"dataframe\">\n",
       "  <thead>\n",
       "    <tr style=\"text-align: right;\">\n",
       "      <th></th>\n",
       "      <th>overall</th>\n",
       "      <th>asin</th>\n",
       "      <th>unixReviewTime</th>\n",
       "      <th>userid</th>\n",
       "      <th>itemid</th>\n",
       "      <th>rating</th>\n",
       "      <th>title</th>\n",
       "    </tr>\n",
       "  </thead>\n",
       "  <tbody>\n",
       "    <tr>\n",
       "      <th>17292</th>\n",
       "      <td>2.0</td>\n",
       "      <td>B000HDGDDI</td>\n",
       "      <td>1338508800</td>\n",
       "      <td>59657</td>\n",
       "      <td>2589</td>\n",
       "      <td>0.0</td>\n",
       "      <td>Orville Redenbacher's Kettle Korn Popcorn, Sin...</td>\n",
       "    </tr>\n",
       "    <tr>\n",
       "      <th>48112</th>\n",
       "      <td>5.0</td>\n",
       "      <td>B000LKU3UG</td>\n",
       "      <td>1260230400</td>\n",
       "      <td>35761</td>\n",
       "      <td>3192</td>\n",
       "      <td>1.0</td>\n",
       "      <td>Real Foods Organic Corn Thins, Sesame Flavor, ...</td>\n",
       "    </tr>\n",
       "    <tr>\n",
       "      <th>75408</th>\n",
       "      <td>5.0</td>\n",
       "      <td>B000Q7UCAK</td>\n",
       "      <td>1475625600</td>\n",
       "      <td>39472</td>\n",
       "      <td>4191</td>\n",
       "      <td>1.0</td>\n",
       "      <td>Montasio Cheese 1 lb</td>\n",
       "    </tr>\n",
       "    <tr>\n",
       "      <th>87813</th>\n",
       "      <td>4.0</td>\n",
       "      <td>B01CYI3TLM</td>\n",
       "      <td>1505865600</td>\n",
       "      <td>18077</td>\n",
       "      <td>41250</td>\n",
       "      <td>1.0</td>\n",
       "      <td>Yoplait, Original Yogurt, Variety Pack (strawb...</td>\n",
       "    </tr>\n",
       "    <tr>\n",
       "      <th>107782</th>\n",
       "      <td>3.0</td>\n",
       "      <td>B00KFL8VYG</td>\n",
       "      <td>1431302400</td>\n",
       "      <td>7265</td>\n",
       "      <td>28902</td>\n",
       "      <td>0.0</td>\n",
       "      <td>McCormick Grill Mates Special 12 (Marinades,Se...</td>\n",
       "    </tr>\n",
       "    <tr>\n",
       "      <th>118377</th>\n",
       "      <td>5.0</td>\n",
       "      <td>B0000D954D</td>\n",
       "      <td>1354752000</td>\n",
       "      <td>1587</td>\n",
       "      <td>67</td>\n",
       "      <td>1.0</td>\n",
       "      <td>Sans Sucre Cinnamon Sugar Substitute</td>\n",
       "    </tr>\n",
       "    <tr>\n",
       "      <th>121200</th>\n",
       "      <td>3.0</td>\n",
       "      <td>B00Z4ZBJCO</td>\n",
       "      <td>1480636800</td>\n",
       "      <td>62787</td>\n",
       "      <td>34211</td>\n",
       "      <td>0.0</td>\n",
       "      <td>Custom Variety Pack Hot Cocoa Single Serve Cup...</td>\n",
       "    </tr>\n",
       "    <tr>\n",
       "      <th>127060</th>\n",
       "      <td>5.0</td>\n",
       "      <td>B00KFL8VYG</td>\n",
       "      <td>1422835200</td>\n",
       "      <td>84721</td>\n",
       "      <td>28902</td>\n",
       "      <td>1.0</td>\n",
       "      <td>McCormick Grill Mates Special 12 (Marinades,Se...</td>\n",
       "    </tr>\n",
       "    <tr>\n",
       "      <th>127347</th>\n",
       "      <td>5.0</td>\n",
       "      <td>B00MCJDWMK</td>\n",
       "      <td>1464307200</td>\n",
       "      <td>116919</td>\n",
       "      <td>40752</td>\n",
       "      <td>1.0</td>\n",
       "      <td>Ceylon Pure Organic Coconut Flakes, Medium, 8 ...</td>\n",
       "    </tr>\n",
       "    <tr>\n",
       "      <th>136871</th>\n",
       "      <td>5.0</td>\n",
       "      <td>B0000D954D</td>\n",
       "      <td>1513296000</td>\n",
       "      <td>124600</td>\n",
       "      <td>67</td>\n",
       "      <td>1.0</td>\n",
       "      <td>Sans Sucre Cinnamon Sugar Substitute</td>\n",
       "    </tr>\n",
       "    <tr>\n",
       "      <th>140061</th>\n",
       "      <td>5.0</td>\n",
       "      <td>B00KFL8VYG</td>\n",
       "      <td>1528502400</td>\n",
       "      <td>17151</td>\n",
       "      <td>28902</td>\n",
       "      <td>1.0</td>\n",
       "      <td>McCormick Grill Mates Special 12 (Marinades,Se...</td>\n",
       "    </tr>\n",
       "    <tr>\n",
       "      <th>192057</th>\n",
       "      <td>5.0</td>\n",
       "      <td>B0000D954D</td>\n",
       "      <td>1424131200</td>\n",
       "      <td>1585</td>\n",
       "      <td>67</td>\n",
       "      <td>1.0</td>\n",
       "      <td>Sans Sucre Cinnamon Sugar Substitute</td>\n",
       "    </tr>\n",
       "    <tr>\n",
       "      <th>202620</th>\n",
       "      <td>5.0</td>\n",
       "      <td>B0000D954D</td>\n",
       "      <td>1476316800</td>\n",
       "      <td>92468</td>\n",
       "      <td>67</td>\n",
       "      <td>1.0</td>\n",
       "      <td>Sans Sucre Cinnamon Sugar Substitute</td>\n",
       "    </tr>\n",
       "    <tr>\n",
       "      <th>206459</th>\n",
       "      <td>5.0</td>\n",
       "      <td>B000LKU3UG</td>\n",
       "      <td>1202428800</td>\n",
       "      <td>31281</td>\n",
       "      <td>3192</td>\n",
       "      <td>1.0</td>\n",
       "      <td>Real Foods Organic Corn Thins, Sesame Flavor, ...</td>\n",
       "    </tr>\n",
       "    <tr>\n",
       "      <th>221445</th>\n",
       "      <td>5.0</td>\n",
       "      <td>B000LKU3UG</td>\n",
       "      <td>1264896000</td>\n",
       "      <td>47286</td>\n",
       "      <td>3192</td>\n",
       "      <td>1.0</td>\n",
       "      <td>Real Foods Organic Corn Thins, Sesame Flavor, ...</td>\n",
       "    </tr>\n",
       "    <tr>\n",
       "      <th>226079</th>\n",
       "      <td>5.0</td>\n",
       "      <td>B0000D954D</td>\n",
       "      <td>1432771200</td>\n",
       "      <td>1584</td>\n",
       "      <td>67</td>\n",
       "      <td>1.0</td>\n",
       "      <td>Sans Sucre Cinnamon Sugar Substitute</td>\n",
       "    </tr>\n",
       "    <tr>\n",
       "      <th>239972</th>\n",
       "      <td>5.0</td>\n",
       "      <td>B00KFL8VYG</td>\n",
       "      <td>1425772800</td>\n",
       "      <td>1447</td>\n",
       "      <td>28902</td>\n",
       "      <td>1.0</td>\n",
       "      <td>McCormick Grill Mates Special 12 (Marinades,Se...</td>\n",
       "    </tr>\n",
       "    <tr>\n",
       "      <th>252897</th>\n",
       "      <td>5.0</td>\n",
       "      <td>B00MCJDWMK</td>\n",
       "      <td>1461542400</td>\n",
       "      <td>106684</td>\n",
       "      <td>40752</td>\n",
       "      <td>1.0</td>\n",
       "      <td>Ceylon Pure Organic Coconut Flakes, Medium, 8 ...</td>\n",
       "    </tr>\n",
       "    <tr>\n",
       "      <th>262241</th>\n",
       "      <td>5.0</td>\n",
       "      <td>B01GWPF7DQ</td>\n",
       "      <td>1454371200</td>\n",
       "      <td>70888</td>\n",
       "      <td>38177</td>\n",
       "      <td>1.0</td>\n",
       "      <td>Cafe Rico Ground Regular Puerto Rican Coffee, ...</td>\n",
       "    </tr>\n",
       "    <tr>\n",
       "      <th>264364</th>\n",
       "      <td>5.0</td>\n",
       "      <td>B00VH5LT16</td>\n",
       "      <td>1471219200</td>\n",
       "      <td>65962</td>\n",
       "      <td>33321</td>\n",
       "      <td>1.0</td>\n",
       "      <td>Cosmos Creations Puffed Corn Coconut Crunch 6....</td>\n",
       "    </tr>\n",
       "    <tr>\n",
       "      <th>281584</th>\n",
       "      <td>5.0</td>\n",
       "      <td>B0000D954D</td>\n",
       "      <td>1388966400</td>\n",
       "      <td>1586</td>\n",
       "      <td>67</td>\n",
       "      <td>1.0</td>\n",
       "      <td>Sans Sucre Cinnamon Sugar Substitute</td>\n",
       "    </tr>\n",
       "    <tr>\n",
       "      <th>316814</th>\n",
       "      <td>5.0</td>\n",
       "      <td>B000HDGDDI</td>\n",
       "      <td>1444694400</td>\n",
       "      <td>25195</td>\n",
       "      <td>2589</td>\n",
       "      <td>1.0</td>\n",
       "      <td>Orville Redenbacher's Kettle Korn Popcorn, Sin...</td>\n",
       "    </tr>\n",
       "    <tr>\n",
       "      <th>317922</th>\n",
       "      <td>4.0</td>\n",
       "      <td>B0000D954D</td>\n",
       "      <td>1515801600</td>\n",
       "      <td>37604</td>\n",
       "      <td>67</td>\n",
       "      <td>1.0</td>\n",
       "      <td>Sans Sucre Cinnamon Sugar Substitute</td>\n",
       "    </tr>\n",
       "    <tr>\n",
       "      <th>357464</th>\n",
       "      <td>4.0</td>\n",
       "      <td>B000LKU3UG</td>\n",
       "      <td>1385769600</td>\n",
       "      <td>38324</td>\n",
       "      <td>3192</td>\n",
       "      <td>1.0</td>\n",
       "      <td>Real Foods Organic Corn Thins, Sesame Flavor, ...</td>\n",
       "    </tr>\n",
       "    <tr>\n",
       "      <th>370229</th>\n",
       "      <td>5.0</td>\n",
       "      <td>B00Z4ZBJCO</td>\n",
       "      <td>1452729600</td>\n",
       "      <td>75301</td>\n",
       "      <td>34211</td>\n",
       "      <td>1.0</td>\n",
       "      <td>Custom Variety Pack Hot Cocoa Single Serve Cup...</td>\n",
       "    </tr>\n",
       "    <tr>\n",
       "      <th>370835</th>\n",
       "      <td>5.0</td>\n",
       "      <td>B000Q7UCAK</td>\n",
       "      <td>1466121600</td>\n",
       "      <td>12288</td>\n",
       "      <td>4191</td>\n",
       "      <td>1.0</td>\n",
       "      <td>Montasio Cheese 1 lb</td>\n",
       "    </tr>\n",
       "    <tr>\n",
       "      <th>383362</th>\n",
       "      <td>5.0</td>\n",
       "      <td>B000LKU3UG</td>\n",
       "      <td>1285286400</td>\n",
       "      <td>64714</td>\n",
       "      <td>3192</td>\n",
       "      <td>1.0</td>\n",
       "      <td>Real Foods Organic Corn Thins, Sesame Flavor, ...</td>\n",
       "    </tr>\n",
       "    <tr>\n",
       "      <th>384433</th>\n",
       "      <td>5.0</td>\n",
       "      <td>B00MCJDWMK</td>\n",
       "      <td>1461888000</td>\n",
       "      <td>4718</td>\n",
       "      <td>40752</td>\n",
       "      <td>1.0</td>\n",
       "      <td>Ceylon Pure Organic Coconut Flakes, Medium, 8 ...</td>\n",
       "    </tr>\n",
       "    <tr>\n",
       "      <th>403968</th>\n",
       "      <td>1.0</td>\n",
       "      <td>B000HDGDDI</td>\n",
       "      <td>1411171200</td>\n",
       "      <td>45217</td>\n",
       "      <td>2589</td>\n",
       "      <td>0.0</td>\n",
       "      <td>Orville Redenbacher's Kettle Korn Popcorn, Sin...</td>\n",
       "    </tr>\n",
       "    <tr>\n",
       "      <th>414180</th>\n",
       "      <td>5.0</td>\n",
       "      <td>B000Q7UCAK</td>\n",
       "      <td>1444867200</td>\n",
       "      <td>74178</td>\n",
       "      <td>4191</td>\n",
       "      <td>1.0</td>\n",
       "      <td>Montasio Cheese 1 lb</td>\n",
       "    </tr>\n",
       "    <tr>\n",
       "      <th>416546</th>\n",
       "      <td>4.0</td>\n",
       "      <td>B000LKU3UG</td>\n",
       "      <td>1215302400</td>\n",
       "      <td>23474</td>\n",
       "      <td>3192</td>\n",
       "      <td>1.0</td>\n",
       "      <td>Real Foods Organic Corn Thins, Sesame Flavor, ...</td>\n",
       "    </tr>\n",
       "    <tr>\n",
       "      <th>442168</th>\n",
       "      <td>5.0</td>\n",
       "      <td>B0000D954D</td>\n",
       "      <td>1475884800</td>\n",
       "      <td>38411</td>\n",
       "      <td>67</td>\n",
       "      <td>1.0</td>\n",
       "      <td>Sans Sucre Cinnamon Sugar Substitute</td>\n",
       "    </tr>\n",
       "    <tr>\n",
       "      <th>455390</th>\n",
       "      <td>5.0</td>\n",
       "      <td>B00VH5LT16</td>\n",
       "      <td>1482451200</td>\n",
       "      <td>15458</td>\n",
       "      <td>33321</td>\n",
       "      <td>1.0</td>\n",
       "      <td>Cosmos Creations Puffed Corn Coconut Crunch 6....</td>\n",
       "    </tr>\n",
       "    <tr>\n",
       "      <th>459200</th>\n",
       "      <td>5.0</td>\n",
       "      <td>B000Q7UCAK</td>\n",
       "      <td>1427500800</td>\n",
       "      <td>74179</td>\n",
       "      <td>4191</td>\n",
       "      <td>1.0</td>\n",
       "      <td>Montasio Cheese 1 lb</td>\n",
       "    </tr>\n",
       "    <tr>\n",
       "      <th>469252</th>\n",
       "      <td>5.0</td>\n",
       "      <td>B000LKU3UG</td>\n",
       "      <td>1306627200</td>\n",
       "      <td>83937</td>\n",
       "      <td>3192</td>\n",
       "      <td>1.0</td>\n",
       "      <td>Real Foods Organic Corn Thins, Sesame Flavor, ...</td>\n",
       "    </tr>\n",
       "    <tr>\n",
       "      <th>509695</th>\n",
       "      <td>5.0</td>\n",
       "      <td>B00KFL8VYG</td>\n",
       "      <td>1416355200</td>\n",
       "      <td>24893</td>\n",
       "      <td>28902</td>\n",
       "      <td>1.0</td>\n",
       "      <td>McCormick Grill Mates Special 12 (Marinades,Se...</td>\n",
       "    </tr>\n",
       "    <tr>\n",
       "      <th>536938</th>\n",
       "      <td>5.0</td>\n",
       "      <td>B00KFL8VYG</td>\n",
       "      <td>1483228800</td>\n",
       "      <td>54836</td>\n",
       "      <td>28902</td>\n",
       "      <td>1.0</td>\n",
       "      <td>McCormick Grill Mates Special 12 (Marinades,Se...</td>\n",
       "    </tr>\n",
       "    <tr>\n",
       "      <th>551432</th>\n",
       "      <td>5.0</td>\n",
       "      <td>B01CYI3TLM</td>\n",
       "      <td>1490140800</td>\n",
       "      <td>93896</td>\n",
       "      <td>41250</td>\n",
       "      <td>1.0</td>\n",
       "      <td>Yoplait, Original Yogurt, Variety Pack (strawb...</td>\n",
       "    </tr>\n",
       "    <tr>\n",
       "      <th>593358</th>\n",
       "      <td>5.0</td>\n",
       "      <td>B000HDGDDI</td>\n",
       "      <td>1492387200</td>\n",
       "      <td>71019</td>\n",
       "      <td>2589</td>\n",
       "      <td>1.0</td>\n",
       "      <td>Orville Redenbacher's Kettle Korn Popcorn, Sin...</td>\n",
       "    </tr>\n",
       "    <tr>\n",
       "      <th>598231</th>\n",
       "      <td>5.0</td>\n",
       "      <td>B01GWPF7DQ</td>\n",
       "      <td>1400284800</td>\n",
       "      <td>93213</td>\n",
       "      <td>38177</td>\n",
       "      <td>1.0</td>\n",
       "      <td>Cafe Rico Ground Regular Puerto Rican Coffee, ...</td>\n",
       "    </tr>\n",
       "    <tr>\n",
       "      <th>598556</th>\n",
       "      <td>4.0</td>\n",
       "      <td>B000Q7UCAK</td>\n",
       "      <td>1489881600</td>\n",
       "      <td>58826</td>\n",
       "      <td>4191</td>\n",
       "      <td>1.0</td>\n",
       "      <td>Montasio Cheese 1 lb</td>\n",
       "    </tr>\n",
       "    <tr>\n",
       "      <th>612237</th>\n",
       "      <td>1.0</td>\n",
       "      <td>B000HDGDDI</td>\n",
       "      <td>1278979200</td>\n",
       "      <td>39812</td>\n",
       "      <td>2589</td>\n",
       "      <td>0.0</td>\n",
       "      <td>Orville Redenbacher's Kettle Korn Popcorn, Sin...</td>\n",
       "    </tr>\n",
       "    <tr>\n",
       "      <th>630881</th>\n",
       "      <td>5.0</td>\n",
       "      <td>B00Z4ZBJCO</td>\n",
       "      <td>1484092800</td>\n",
       "      <td>91620</td>\n",
       "      <td>34211</td>\n",
       "      <td>1.0</td>\n",
       "      <td>Custom Variety Pack Hot Cocoa Single Serve Cup...</td>\n",
       "    </tr>\n",
       "    <tr>\n",
       "      <th>642383</th>\n",
       "      <td>5.0</td>\n",
       "      <td>B01CYI3TLM</td>\n",
       "      <td>1511308800</td>\n",
       "      <td>74775</td>\n",
       "      <td>41250</td>\n",
       "      <td>1.0</td>\n",
       "      <td>Yoplait, Original Yogurt, Variety Pack (strawb...</td>\n",
       "    </tr>\n",
       "    <tr>\n",
       "      <th>691739</th>\n",
       "      <td>5.0</td>\n",
       "      <td>B00MCJDWMK</td>\n",
       "      <td>1443571200</td>\n",
       "      <td>72352</td>\n",
       "      <td>40752</td>\n",
       "      <td>1.0</td>\n",
       "      <td>Ceylon Pure Organic Coconut Flakes, Medium, 8 ...</td>\n",
       "    </tr>\n",
       "    <tr>\n",
       "      <th>716824</th>\n",
       "      <td>5.0</td>\n",
       "      <td>B00Z4ZBJCO</td>\n",
       "      <td>1484524800</td>\n",
       "      <td>110079</td>\n",
       "      <td>34211</td>\n",
       "      <td>1.0</td>\n",
       "      <td>Custom Variety Pack Hot Cocoa Single Serve Cup...</td>\n",
       "    </tr>\n",
       "    <tr>\n",
       "      <th>727332</th>\n",
       "      <td>5.0</td>\n",
       "      <td>B00VH5LT16</td>\n",
       "      <td>1500076800</td>\n",
       "      <td>34060</td>\n",
       "      <td>33321</td>\n",
       "      <td>1.0</td>\n",
       "      <td>Cosmos Creations Puffed Corn Coconut Crunch 6....</td>\n",
       "    </tr>\n",
       "    <tr>\n",
       "      <th>749039</th>\n",
       "      <td>5.0</td>\n",
       "      <td>B00Z4ZBJCO</td>\n",
       "      <td>1487030400</td>\n",
       "      <td>106946</td>\n",
       "      <td>34211</td>\n",
       "      <td>1.0</td>\n",
       "      <td>Custom Variety Pack Hot Cocoa Single Serve Cup...</td>\n",
       "    </tr>\n",
       "    <tr>\n",
       "      <th>770926</th>\n",
       "      <td>4.0</td>\n",
       "      <td>B000HDGDDI</td>\n",
       "      <td>1440201600</td>\n",
       "      <td>39359</td>\n",
       "      <td>2589</td>\n",
       "      <td>1.0</td>\n",
       "      <td>Orville Redenbacher's Kettle Korn Popcorn, Sin...</td>\n",
       "    </tr>\n",
       "    <tr>\n",
       "      <th>808690</th>\n",
       "      <td>3.0</td>\n",
       "      <td>B00Z4ZBJCO</td>\n",
       "      <td>1501804800</td>\n",
       "      <td>29885</td>\n",
       "      <td>34211</td>\n",
       "      <td>0.0</td>\n",
       "      <td>Custom Variety Pack Hot Cocoa Single Serve Cup...</td>\n",
       "    </tr>\n",
       "    <tr>\n",
       "      <th>823672</th>\n",
       "      <td>5.0</td>\n",
       "      <td>B0000D954D</td>\n",
       "      <td>1485043200</td>\n",
       "      <td>102283</td>\n",
       "      <td>67</td>\n",
       "      <td>1.0</td>\n",
       "      <td>Sans Sucre Cinnamon Sugar Substitute</td>\n",
       "    </tr>\n",
       "    <tr>\n",
       "      <th>824333</th>\n",
       "      <td>5.0</td>\n",
       "      <td>B000LKU3UG</td>\n",
       "      <td>1381363200</td>\n",
       "      <td>88714</td>\n",
       "      <td>3192</td>\n",
       "      <td>1.0</td>\n",
       "      <td>Real Foods Organic Corn Thins, Sesame Flavor, ...</td>\n",
       "    </tr>\n",
       "    <tr>\n",
       "      <th>849227</th>\n",
       "      <td>5.0</td>\n",
       "      <td>B00VH5LT16</td>\n",
       "      <td>1487289600</td>\n",
       "      <td>68267</td>\n",
       "      <td>33321</td>\n",
       "      <td>1.0</td>\n",
       "      <td>Cosmos Creations Puffed Corn Coconut Crunch 6....</td>\n",
       "    </tr>\n",
       "  </tbody>\n",
       "</table>\n",
       "</div>"
      ],
      "text/plain": [
       "        overall        asin  unixReviewTime  userid  itemid  rating  \\\n",
       "17292       2.0  B000HDGDDI      1338508800   59657    2589     0.0   \n",
       "48112       5.0  B000LKU3UG      1260230400   35761    3192     1.0   \n",
       "75408       5.0  B000Q7UCAK      1475625600   39472    4191     1.0   \n",
       "87813       4.0  B01CYI3TLM      1505865600   18077   41250     1.0   \n",
       "107782      3.0  B00KFL8VYG      1431302400    7265   28902     0.0   \n",
       "118377      5.0  B0000D954D      1354752000    1587      67     1.0   \n",
       "121200      3.0  B00Z4ZBJCO      1480636800   62787   34211     0.0   \n",
       "127060      5.0  B00KFL8VYG      1422835200   84721   28902     1.0   \n",
       "127347      5.0  B00MCJDWMK      1464307200  116919   40752     1.0   \n",
       "136871      5.0  B0000D954D      1513296000  124600      67     1.0   \n",
       "140061      5.0  B00KFL8VYG      1528502400   17151   28902     1.0   \n",
       "192057      5.0  B0000D954D      1424131200    1585      67     1.0   \n",
       "202620      5.0  B0000D954D      1476316800   92468      67     1.0   \n",
       "206459      5.0  B000LKU3UG      1202428800   31281    3192     1.0   \n",
       "221445      5.0  B000LKU3UG      1264896000   47286    3192     1.0   \n",
       "226079      5.0  B0000D954D      1432771200    1584      67     1.0   \n",
       "239972      5.0  B00KFL8VYG      1425772800    1447   28902     1.0   \n",
       "252897      5.0  B00MCJDWMK      1461542400  106684   40752     1.0   \n",
       "262241      5.0  B01GWPF7DQ      1454371200   70888   38177     1.0   \n",
       "264364      5.0  B00VH5LT16      1471219200   65962   33321     1.0   \n",
       "281584      5.0  B0000D954D      1388966400    1586      67     1.0   \n",
       "316814      5.0  B000HDGDDI      1444694400   25195    2589     1.0   \n",
       "317922      4.0  B0000D954D      1515801600   37604      67     1.0   \n",
       "357464      4.0  B000LKU3UG      1385769600   38324    3192     1.0   \n",
       "370229      5.0  B00Z4ZBJCO      1452729600   75301   34211     1.0   \n",
       "370835      5.0  B000Q7UCAK      1466121600   12288    4191     1.0   \n",
       "383362      5.0  B000LKU3UG      1285286400   64714    3192     1.0   \n",
       "384433      5.0  B00MCJDWMK      1461888000    4718   40752     1.0   \n",
       "403968      1.0  B000HDGDDI      1411171200   45217    2589     0.0   \n",
       "414180      5.0  B000Q7UCAK      1444867200   74178    4191     1.0   \n",
       "416546      4.0  B000LKU3UG      1215302400   23474    3192     1.0   \n",
       "442168      5.0  B0000D954D      1475884800   38411      67     1.0   \n",
       "455390      5.0  B00VH5LT16      1482451200   15458   33321     1.0   \n",
       "459200      5.0  B000Q7UCAK      1427500800   74179    4191     1.0   \n",
       "469252      5.0  B000LKU3UG      1306627200   83937    3192     1.0   \n",
       "509695      5.0  B00KFL8VYG      1416355200   24893   28902     1.0   \n",
       "536938      5.0  B00KFL8VYG      1483228800   54836   28902     1.0   \n",
       "551432      5.0  B01CYI3TLM      1490140800   93896   41250     1.0   \n",
       "593358      5.0  B000HDGDDI      1492387200   71019    2589     1.0   \n",
       "598231      5.0  B01GWPF7DQ      1400284800   93213   38177     1.0   \n",
       "598556      4.0  B000Q7UCAK      1489881600   58826    4191     1.0   \n",
       "612237      1.0  B000HDGDDI      1278979200   39812    2589     0.0   \n",
       "630881      5.0  B00Z4ZBJCO      1484092800   91620   34211     1.0   \n",
       "642383      5.0  B01CYI3TLM      1511308800   74775   41250     1.0   \n",
       "691739      5.0  B00MCJDWMK      1443571200   72352   40752     1.0   \n",
       "716824      5.0  B00Z4ZBJCO      1484524800  110079   34211     1.0   \n",
       "727332      5.0  B00VH5LT16      1500076800   34060   33321     1.0   \n",
       "749039      5.0  B00Z4ZBJCO      1487030400  106946   34211     1.0   \n",
       "770926      4.0  B000HDGDDI      1440201600   39359    2589     1.0   \n",
       "808690      3.0  B00Z4ZBJCO      1501804800   29885   34211     0.0   \n",
       "823672      5.0  B0000D954D      1485043200  102283      67     1.0   \n",
       "824333      5.0  B000LKU3UG      1381363200   88714    3192     1.0   \n",
       "849227      5.0  B00VH5LT16      1487289600   68267   33321     1.0   \n",
       "\n",
       "                                                    title  \n",
       "17292   Orville Redenbacher's Kettle Korn Popcorn, Sin...  \n",
       "48112   Real Foods Organic Corn Thins, Sesame Flavor, ...  \n",
       "75408                                Montasio Cheese 1 lb  \n",
       "87813   Yoplait, Original Yogurt, Variety Pack (strawb...  \n",
       "107782  McCormick Grill Mates Special 12 (Marinades,Se...  \n",
       "118377               Sans Sucre Cinnamon Sugar Substitute  \n",
       "121200  Custom Variety Pack Hot Cocoa Single Serve Cup...  \n",
       "127060  McCormick Grill Mates Special 12 (Marinades,Se...  \n",
       "127347  Ceylon Pure Organic Coconut Flakes, Medium, 8 ...  \n",
       "136871               Sans Sucre Cinnamon Sugar Substitute  \n",
       "140061  McCormick Grill Mates Special 12 (Marinades,Se...  \n",
       "192057               Sans Sucre Cinnamon Sugar Substitute  \n",
       "202620               Sans Sucre Cinnamon Sugar Substitute  \n",
       "206459  Real Foods Organic Corn Thins, Sesame Flavor, ...  \n",
       "221445  Real Foods Organic Corn Thins, Sesame Flavor, ...  \n",
       "226079               Sans Sucre Cinnamon Sugar Substitute  \n",
       "239972  McCormick Grill Mates Special 12 (Marinades,Se...  \n",
       "252897  Ceylon Pure Organic Coconut Flakes, Medium, 8 ...  \n",
       "262241  Cafe Rico Ground Regular Puerto Rican Coffee, ...  \n",
       "264364  Cosmos Creations Puffed Corn Coconut Crunch 6....  \n",
       "281584               Sans Sucre Cinnamon Sugar Substitute  \n",
       "316814  Orville Redenbacher's Kettle Korn Popcorn, Sin...  \n",
       "317922               Sans Sucre Cinnamon Sugar Substitute  \n",
       "357464  Real Foods Organic Corn Thins, Sesame Flavor, ...  \n",
       "370229  Custom Variety Pack Hot Cocoa Single Serve Cup...  \n",
       "370835                               Montasio Cheese 1 lb  \n",
       "383362  Real Foods Organic Corn Thins, Sesame Flavor, ...  \n",
       "384433  Ceylon Pure Organic Coconut Flakes, Medium, 8 ...  \n",
       "403968  Orville Redenbacher's Kettle Korn Popcorn, Sin...  \n",
       "414180                               Montasio Cheese 1 lb  \n",
       "416546  Real Foods Organic Corn Thins, Sesame Flavor, ...  \n",
       "442168               Sans Sucre Cinnamon Sugar Substitute  \n",
       "455390  Cosmos Creations Puffed Corn Coconut Crunch 6....  \n",
       "459200                               Montasio Cheese 1 lb  \n",
       "469252  Real Foods Organic Corn Thins, Sesame Flavor, ...  \n",
       "509695  McCormick Grill Mates Special 12 (Marinades,Se...  \n",
       "536938  McCormick Grill Mates Special 12 (Marinades,Se...  \n",
       "551432  Yoplait, Original Yogurt, Variety Pack (strawb...  \n",
       "593358  Orville Redenbacher's Kettle Korn Popcorn, Sin...  \n",
       "598231  Cafe Rico Ground Regular Puerto Rican Coffee, ...  \n",
       "598556                               Montasio Cheese 1 lb  \n",
       "612237  Orville Redenbacher's Kettle Korn Popcorn, Sin...  \n",
       "630881  Custom Variety Pack Hot Cocoa Single Serve Cup...  \n",
       "642383  Yoplait, Original Yogurt, Variety Pack (strawb...  \n",
       "691739  Ceylon Pure Organic Coconut Flakes, Medium, 8 ...  \n",
       "716824  Custom Variety Pack Hot Cocoa Single Serve Cup...  \n",
       "727332  Cosmos Creations Puffed Corn Coconut Crunch 6....  \n",
       "749039  Custom Variety Pack Hot Cocoa Single Serve Cup...  \n",
       "770926  Orville Redenbacher's Kettle Korn Popcorn, Sin...  \n",
       "808690  Custom Variety Pack Hot Cocoa Single Serve Cup...  \n",
       "823672               Sans Sucre Cinnamon Sugar Substitute  \n",
       "824333  Real Foods Organic Corn Thins, Sesame Flavor, ...  \n",
       "849227  Cosmos Creations Puffed Corn Coconut Crunch 6....  "
      ]
     },
     "execution_count": 111,
     "metadata": {},
     "output_type": "execute_result"
    }
   ],
   "source": [
    "prod_id[prod_id.itemid.isin(nbm)]"
   ]
  },
  {
   "cell_type": "code",
   "execution_count": 113,
   "metadata": {},
   "outputs": [
    {
     "data": {
      "text/html": [
       "<div>\n",
       "<style scoped>\n",
       "    .dataframe tbody tr th:only-of-type {\n",
       "        vertical-align: middle;\n",
       "    }\n",
       "\n",
       "    .dataframe tbody tr th {\n",
       "        vertical-align: top;\n",
       "    }\n",
       "\n",
       "    .dataframe thead th {\n",
       "        text-align: right;\n",
       "    }\n",
       "</style>\n",
       "<table border=\"1\" class=\"dataframe\">\n",
       "  <thead>\n",
       "    <tr style=\"text-align: right;\">\n",
       "      <th></th>\n",
       "      <th>Id</th>\n",
       "      <th>rating</th>\n",
       "    </tr>\n",
       "  </thead>\n",
       "  <tbody>\n",
       "    <tr>\n",
       "      <th>0</th>\n",
       "      <td>0</td>\n",
       "      <td>0.570940</td>\n",
       "    </tr>\n",
       "    <tr>\n",
       "      <th>1</th>\n",
       "      <td>1</td>\n",
       "      <td>0.556893</td>\n",
       "    </tr>\n",
       "    <tr>\n",
       "      <th>2</th>\n",
       "      <td>2</td>\n",
       "      <td>0.535917</td>\n",
       "    </tr>\n",
       "    <tr>\n",
       "      <th>3</th>\n",
       "      <td>3</td>\n",
       "      <td>0.539933</td>\n",
       "    </tr>\n",
       "    <tr>\n",
       "      <th>4</th>\n",
       "      <td>4</td>\n",
       "      <td>0.554013</td>\n",
       "    </tr>\n",
       "    <tr>\n",
       "      <th>...</th>\n",
       "      <td>...</td>\n",
       "      <td>...</td>\n",
       "    </tr>\n",
       "    <tr>\n",
       "      <th>285960</th>\n",
       "      <td>285960</td>\n",
       "      <td>0.580005</td>\n",
       "    </tr>\n",
       "    <tr>\n",
       "      <th>285961</th>\n",
       "      <td>285961</td>\n",
       "      <td>0.470622</td>\n",
       "    </tr>\n",
       "    <tr>\n",
       "      <th>285962</th>\n",
       "      <td>285962</td>\n",
       "      <td>0.558512</td>\n",
       "    </tr>\n",
       "    <tr>\n",
       "      <th>285963</th>\n",
       "      <td>285963</td>\n",
       "      <td>0.582985</td>\n",
       "    </tr>\n",
       "    <tr>\n",
       "      <th>285964</th>\n",
       "      <td>285964</td>\n",
       "      <td>0.587753</td>\n",
       "    </tr>\n",
       "  </tbody>\n",
       "</table>\n",
       "<p>285965 rows × 2 columns</p>\n",
       "</div>"
      ],
      "text/plain": [
       "            Id    rating\n",
       "0            0  0.570940\n",
       "1            1  0.556893\n",
       "2            2  0.535917\n",
       "3            3  0.539933\n",
       "4            4  0.554013\n",
       "...        ...       ...\n",
       "285960  285960  0.580005\n",
       "285961  285961  0.470622\n",
       "285962  285962  0.558512\n",
       "285963  285963  0.582985\n",
       "285964  285964  0.587753\n",
       "\n",
       "[285965 rows x 2 columns]"
      ]
     },
     "execution_count": 113,
     "metadata": {},
     "output_type": "execute_result"
    }
   ],
   "source": [
    "submission['rating']= normalized_preds_sub\n",
    "submission"
   ]
  },
  {
   "cell_type": "code",
   "execution_count": 114,
   "metadata": {},
   "outputs": [],
   "source": [
    "submission.to_csv('submission_log.csv', index=False)"
   ]
  },
  {
   "cell_type": "code",
   "execution_count": null,
   "metadata": {},
   "outputs": [],
   "source": []
  }
 ],
 "metadata": {
  "kernelspec": {
   "display_name": "Python 3",
   "language": "python",
   "name": "python3"
  },
  "language_info": {
   "codemirror_mode": {
    "name": "ipython",
    "version": 3
   },
   "file_extension": ".py",
   "mimetype": "text/x-python",
   "name": "python",
   "nbconvert_exporter": "python",
   "pygments_lexer": "ipython3",
   "version": "3.8.3"
  }
 },
 "nbformat": 4,
 "nbformat_minor": 4
}
